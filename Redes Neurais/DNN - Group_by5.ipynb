{
 "cells": [
  {
   "cell_type": "code",
   "execution_count": 1,
   "metadata": {},
   "outputs": [],
   "source": [
    "import pandas as pd\n",
    "import numpy as np\n",
    "import tensorflow as tf\n",
    "# from sklearn.model_selection import train_test_split\n",
    "from sklearn.metrics import classification_report\n",
    "from model_selection import train_test_split_per_class"
   ]
  },
  {
   "cell_type": "code",
   "execution_count": 2,
   "metadata": {},
   "outputs": [],
   "source": [
    "database = pd.read_csv('group_by5.csv')"
   ]
  },
  {
   "cell_type": "code",
   "execution_count": 3,
   "metadata": {},
   "outputs": [],
   "source": [
    "database.drop('Unnamed: 0', axis=1, inplace=True)"
   ]
  },
  {
   "cell_type": "code",
   "execution_count": 4,
   "metadata": {},
   "outputs": [],
   "source": [
    "x = database.drop('Diagnóstico', axis=1)\n",
    "y = database['Diagnóstico']"
   ]
  },
  {
   "cell_type": "code",
   "execution_count": 5,
   "metadata": {},
   "outputs": [],
   "source": [
    "x_train,x_test,y_train,y_test = train_test_split_per_class(x,y,test_size=0.3)"
   ]
  },
  {
   "cell_type": "code",
   "execution_count": 6,
   "metadata": {},
   "outputs": [],
   "source": [
    "n_inputs = x.shape[1]\n",
    "n_hidden1 = 200\n",
    "n_hidden2 = 100\n",
    "n_outputs = len(y.unique())"
   ]
  },
  {
   "cell_type": "code",
   "execution_count": 7,
   "metadata": {},
   "outputs": [],
   "source": [
    "model = tf.keras.Sequential([tf.keras.layers.Dense(n_hidden1,activation = 'relu'),\n",
    "                             tf.keras.layers.Dense(n_hidden2,activation = 'relu'),\n",
    "                             tf.keras.layers.Dense(n_outputs,activation = 'softmax')])"
   ]
  },
  {
   "cell_type": "code",
   "execution_count": 8,
   "metadata": {},
   "outputs": [],
   "source": [
    "model.compile(optimizer='adam',\n",
    "              loss='sparse_categorical_crossentropy',\n",
    "              metrics=['accuracy'])"
   ]
  },
  {
   "cell_type": "code",
   "execution_count": 9,
   "metadata": {},
   "outputs": [
    {
     "name": "stdout",
     "output_type": "stream",
     "text": [
      "Train on 74 samples\n",
      "Epoch 1/20\n",
      "74/74 [==============================] - 1s 13ms/sample - loss: 2.1601 - accuracy: 0.2703\n",
      "Epoch 2/20\n",
      "74/74 [==============================] - 0s 485us/sample - loss: 1.5103 - accuracy: 0.5541\n",
      "Epoch 3/20\n",
      "74/74 [==============================] - 0s 566us/sample - loss: 1.2189 - accuracy: 0.6351\n",
      "Epoch 4/20\n",
      "74/74 [==============================] - 0s 452us/sample - loss: 1.0848 - accuracy: 0.6892\n",
      "Epoch 5/20\n",
      "74/74 [==============================] - 0s 431us/sample - loss: 0.9338 - accuracy: 0.6486\n",
      "Epoch 6/20\n",
      "74/74 [==============================] - 0s 553us/sample - loss: 0.8410 - accuracy: 0.7162\n",
      "Epoch 7/20\n",
      "74/74 [==============================] - 0s 418us/sample - loss: 0.7308 - accuracy: 0.7973\n",
      "Epoch 8/20\n",
      "74/74 [==============================] - 0s 377us/sample - loss: 0.6345 - accuracy: 0.8243\n",
      "Epoch 9/20\n",
      "74/74 [==============================] - 0s 391us/sample - loss: 0.5651 - accuracy: 0.8514\n",
      "Epoch 10/20\n",
      "74/74 [==============================] - 0s 391us/sample - loss: 0.5186 - accuracy: 0.8514\n",
      "Epoch 11/20\n",
      "74/74 [==============================] - 0s 526us/sample - loss: 0.4683 - accuracy: 0.8784\n",
      "Epoch 12/20\n",
      "74/74 [==============================] - 0s 458us/sample - loss: 0.4496 - accuracy: 0.8919\n",
      "Epoch 13/20\n",
      "74/74 [==============================] - 0s 634us/sample - loss: 0.4393 - accuracy: 0.8649\n",
      "Epoch 14/20\n",
      "74/74 [==============================] - 0s 458us/sample - loss: 0.4169 - accuracy: 0.8649\n",
      "Epoch 15/20\n",
      "74/74 [==============================] - 0s 389us/sample - loss: 0.3421 - accuracy: 0.9054\n",
      "Epoch 16/20\n",
      "74/74 [==============================] - 0s 552us/sample - loss: 0.3429 - accuracy: 0.9189\n",
      "Epoch 17/20\n",
      "74/74 [==============================] - 0s 479us/sample - loss: 0.3470 - accuracy: 0.8784\n",
      "Epoch 18/20\n",
      "74/74 [==============================] - 0s 431us/sample - loss: 0.2841 - accuracy: 0.9324\n",
      "Epoch 19/20\n",
      "74/74 [==============================] - 0s 431us/sample - loss: 0.3157 - accuracy: 0.8919\n",
      "Epoch 20/20\n",
      "74/74 [==============================] - 0s 431us/sample - loss: 0.3278 - accuracy: 0.8919\n"
     ]
    },
    {
     "data": {
      "text/plain": [
       "<tensorflow.python.keras.callbacks.History at 0x243f4d961c8>"
      ]
     },
     "execution_count": 9,
     "metadata": {},
     "output_type": "execute_result"
    }
   ],
   "source": [
    "model.fit(x = x_train.to_numpy(),y = y_train.to_numpy(), batch_size = 10, epochs = 20)"
   ]
  },
  {
   "cell_type": "code",
   "execution_count": 10,
   "metadata": {},
   "outputs": [
    {
     "name": "stdout",
     "output_type": "stream",
     "text": [
      "\r",
      "31/1 [==================================================================================================================================================================================================================================================================================================================================================================================================================================================================================================================================================================================================================================================================================================================================================================================================================================================================================================================================================================] - 0s 3ms/sample - loss: 0.9039 - accuracy: 0.7097\n"
     ]
    }
   ],
   "source": [
    "loss, acc = model.evaluate(x_test.to_numpy(), y_test.to_numpy())"
   ]
  },
  {
   "cell_type": "code",
   "execution_count": 11,
   "metadata": {},
   "outputs": [],
   "source": [
    "y_pred = model.predict(x_test.to_numpy())"
   ]
  },
  {
   "cell_type": "code",
   "execution_count": 12,
   "metadata": {},
   "outputs": [],
   "source": [
    "y_pred_argmax = []\n",
    "for pred in y_pred:\n",
    "    y_pred_argmax.append(np.argmax(pred))"
   ]
  },
  {
   "cell_type": "code",
   "execution_count": 13,
   "metadata": {},
   "outputs": [
    {
     "name": "stdout",
     "output_type": "stream",
     "text": [
      "              precision    recall  f1-score   support\n",
      "\n",
      "           0       1.00      0.67      0.80         6\n",
      "           1       0.60      0.60      0.60         5\n",
      "           2       1.00      0.75      0.86         4\n",
      "           3       0.56      0.83      0.67         6\n",
      "           4       0.00      0.00      0.00         3\n",
      "           5       0.70      1.00      0.82         7\n",
      "\n",
      "    accuracy                           0.71        31\n",
      "   macro avg       0.64      0.64      0.62        31\n",
      "weighted avg       0.68      0.71      0.68        31\n",
      "\n"
     ]
    },
    {
     "name": "stderr",
     "output_type": "stream",
     "text": [
      "C:\\Users\\panto\\AppData\\Local\\Continuum\\anaconda3\\lib\\site-packages\\sklearn\\metrics\\classification.py:1437: UndefinedMetricWarning: Precision and F-score are ill-defined and being set to 0.0 in labels with no predicted samples.\n",
      "  'precision', 'predicted', average, warn_for)\n"
     ]
    }
   ],
   "source": [
    "print(classification_report(y_pred = y_pred_argmax, y_true = y_test))"
   ]
  },
  {
   "cell_type": "code",
   "execution_count": null,
   "metadata": {},
   "outputs": [],
   "source": []
  }
 ],
 "metadata": {
  "kernelspec": {
   "display_name": "Python 3",
   "language": "python",
   "name": "python3"
  },
  "language_info": {
   "codemirror_mode": {
    "name": "ipython",
    "version": 3
   },
   "file_extension": ".py",
   "mimetype": "text/x-python",
   "name": "python",
   "nbconvert_exporter": "python",
   "pygments_lexer": "ipython3",
   "version": "3.7.4"
  }
 },
 "nbformat": 4,
 "nbformat_minor": 2
}
