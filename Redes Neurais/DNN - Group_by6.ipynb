{
 "cells": [
  {
   "cell_type": "code",
   "execution_count": 1,
   "metadata": {},
   "outputs": [],
   "source": [
    "import pandas as pd\n",
    "import numpy as np\n",
    "import tensorflow as tf\n",
    "# from sklearn.model_selection import train_test_split\n",
    "from sklearn.metrics import classification_report\n",
    "from model_selection import train_test_split_per_class"
   ]
  },
  {
   "cell_type": "code",
   "execution_count": 2,
   "metadata": {},
   "outputs": [],
   "source": [
    "database = pd.read_csv('group_by6.csv')"
   ]
  },
  {
   "cell_type": "code",
   "execution_count": 3,
   "metadata": {},
   "outputs": [],
   "source": [
    "database.drop('Unnamed: 0', axis=1, inplace=True)"
   ]
  },
  {
   "cell_type": "code",
   "execution_count": 4,
   "metadata": {},
   "outputs": [],
   "source": [
    "x = database.drop('Diagnóstico', axis=1)\n",
    "y = database['Diagnóstico']"
   ]
  },
  {
   "cell_type": "code",
   "execution_count": 5,
   "metadata": {},
   "outputs": [],
   "source": [
    "x_train,x_test,y_train,y_test = train_test_split_per_class(x,y,test_size=0.3)"
   ]
  },
  {
   "cell_type": "code",
   "execution_count": 6,
   "metadata": {},
   "outputs": [],
   "source": [
    "n_inputs = x.shape[1]\n",
    "n_hidden1 = 200\n",
    "n_hidden2 = 100\n",
    "n_outputs = len(y.unique())"
   ]
  },
  {
   "cell_type": "code",
   "execution_count": 7,
   "metadata": {},
   "outputs": [],
   "source": [
    "model = tf.keras.Sequential([tf.keras.layers.Dense(n_hidden1,activation = 'relu'),\n",
    "                             tf.keras.layers.Dense(n_hidden2,activation = 'relu'),\n",
    "                             tf.keras.layers.Dense(n_outputs,activation = 'softmax')])"
   ]
  },
  {
   "cell_type": "code",
   "execution_count": 8,
   "metadata": {},
   "outputs": [],
   "source": [
    "model.compile(optimizer='adam',\n",
    "              loss='sparse_categorical_crossentropy',\n",
    "              metrics=['accuracy'])"
   ]
  },
  {
   "cell_type": "code",
   "execution_count": 9,
   "metadata": {},
   "outputs": [
    {
     "name": "stdout",
     "output_type": "stream",
     "text": [
      "Train on 75 samples\n",
      "Epoch 1/20\n",
      "75/75 [==============================] - 1s 13ms/sample - loss: 1.3584 - accuracy: 0.4800\n",
      "Epoch 2/20\n",
      "75/75 [==============================] - 0s 585us/sample - loss: 0.9799 - accuracy: 0.6933\n",
      "Epoch 3/20\n",
      "75/75 [==============================] - 0s 492us/sample - loss: 0.6837 - accuracy: 0.7733\n",
      "Epoch 4/20\n",
      "75/75 [==============================] - 0s 559us/sample - loss: 0.5651 - accuracy: 0.8000\n",
      "Epoch 5/20\n",
      "75/75 [==============================] - 0s 452us/sample - loss: 0.4880 - accuracy: 0.8667\n",
      "Epoch 6/20\n",
      "75/75 [==============================] - 0s 505us/sample - loss: 0.4811 - accuracy: 0.8400\n",
      "Epoch 7/20\n",
      "75/75 [==============================] - 0s 519us/sample - loss: 0.4143 - accuracy: 0.8800\n",
      "Epoch 8/20\n",
      "75/75 [==============================] - 0s 412us/sample - loss: 0.3410 - accuracy: 0.9200\n",
      "Epoch 9/20\n",
      "75/75 [==============================] - 0s 572us/sample - loss: 0.3159 - accuracy: 0.9333\n",
      "Epoch 10/20\n",
      "75/75 [==============================] - 0s 465us/sample - loss: 0.2723 - accuracy: 0.9467\n",
      "Epoch 11/20\n",
      "75/75 [==============================] - 0s 479us/sample - loss: 0.2683 - accuracy: 0.8933\n",
      "Epoch 12/20\n",
      "75/75 [==============================] - 0s 612us/sample - loss: 0.2435 - accuracy: 0.9333\n",
      "Epoch 13/20\n",
      "75/75 [==============================] - 0s 479us/sample - loss: 0.2182 - accuracy: 0.9333\n",
      "Epoch 14/20\n",
      "75/75 [==============================] - 0s 505us/sample - loss: 0.2278 - accuracy: 0.9067\n",
      "Epoch 15/20\n",
      "75/75 [==============================] - 0s 479us/sample - loss: 0.2126 - accuracy: 0.9467\n",
      "Epoch 16/20\n",
      "75/75 [==============================] - 0s 545us/sample - loss: 0.1814 - accuracy: 0.9467\n",
      "Epoch 17/20\n",
      "75/75 [==============================] - 0s 465us/sample - loss: 0.1589 - accuracy: 0.9733\n",
      "Epoch 18/20\n",
      "75/75 [==============================] - 0s 559us/sample - loss: 0.1587 - accuracy: 0.9600\n",
      "Epoch 19/20\n",
      "75/75 [==============================] - 0s 638us/sample - loss: 0.1612 - accuracy: 0.9733\n",
      "Epoch 20/20\n",
      "75/75 [==============================] - 0s 686us/sample - loss: 0.1568 - accuracy: 0.9733\n"
     ]
    },
    {
     "data": {
      "text/plain": [
       "<tensorflow.python.keras.callbacks.History at 0x13b753140c8>"
      ]
     },
     "execution_count": 9,
     "metadata": {},
     "output_type": "execute_result"
    }
   ],
   "source": [
    "model.fit(x = x_train.to_numpy(),y = y_train.to_numpy(), batch_size = 10, epochs = 20)"
   ]
  },
  {
   "cell_type": "code",
   "execution_count": 10,
   "metadata": {},
   "outputs": [
    {
     "name": "stdout",
     "output_type": "stream",
     "text": [
      "\r",
      "31/1 [==================================================================================================================================================================================================================================================================================================================================================================================================================================================================================================================================================================================================================================================================================================================================================================================================================================================================================================================================================================] - 0s 3ms/sample - loss: 0.7352 - accuracy: 0.7742\n"
     ]
    }
   ],
   "source": [
    "loss, acc = model.evaluate(x_test.to_numpy(), y_test.to_numpy())"
   ]
  },
  {
   "cell_type": "code",
   "execution_count": 11,
   "metadata": {},
   "outputs": [],
   "source": [
    "y_pred = model.predict(x_test.to_numpy())"
   ]
  },
  {
   "cell_type": "code",
   "execution_count": 12,
   "metadata": {},
   "outputs": [],
   "source": [
    "y_pred_argmax = []\n",
    "for pred in y_pred:\n",
    "    y_pred_argmax.append(np.argmax(pred))"
   ]
  },
  {
   "cell_type": "code",
   "execution_count": 13,
   "metadata": {},
   "outputs": [
    {
     "name": "stdout",
     "output_type": "stream",
     "text": [
      "              precision    recall  f1-score   support\n",
      "\n",
      "           0       0.75      1.00      0.86        12\n",
      "           1       0.33      0.20      0.25         5\n",
      "           2       1.00      0.75      0.86         4\n",
      "           3       0.89      0.80      0.84        10\n",
      "\n",
      "    accuracy                           0.77        31\n",
      "   macro avg       0.74      0.69      0.70        31\n",
      "weighted avg       0.76      0.77      0.75        31\n",
      "\n"
     ]
    }
   ],
   "source": [
    "print(classification_report(y_pred = y_pred_argmax, y_true = y_test))"
   ]
  },
  {
   "cell_type": "code",
   "execution_count": null,
   "metadata": {},
   "outputs": [],
   "source": []
  }
 ],
 "metadata": {
  "kernelspec": {
   "display_name": "Python 3",
   "language": "python",
   "name": "python3"
  },
  "language_info": {
   "codemirror_mode": {
    "name": "ipython",
    "version": 3
   },
   "file_extension": ".py",
   "mimetype": "text/x-python",
   "name": "python",
   "nbconvert_exporter": "python",
   "pygments_lexer": "ipython3",
   "version": "3.7.4"
  }
 },
 "nbformat": 4,
 "nbformat_minor": 2
}
