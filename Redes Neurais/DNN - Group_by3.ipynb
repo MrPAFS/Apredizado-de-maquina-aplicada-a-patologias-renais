{
 "cells": [
  {
   "cell_type": "code",
   "execution_count": 1,
   "metadata": {},
   "outputs": [],
   "source": [
    "import pandas as pd\n",
    "import numpy as np\n",
    "import tensorflow as tf\n",
    "# from sklearn.model_selection import train_test_split\n",
    "from sklearn.metrics import classification_report\n",
    "from model_selection import train_test_split_per_class"
   ]
  },
  {
   "cell_type": "code",
   "execution_count": 2,
   "metadata": {},
   "outputs": [],
   "source": [
    "database = pd.read_csv('group_by3.csv')"
   ]
  },
  {
   "cell_type": "code",
   "execution_count": 3,
   "metadata": {},
   "outputs": [],
   "source": [
    "database.drop('Unnamed: 0', axis=1, inplace=True)"
   ]
  },
  {
   "cell_type": "code",
   "execution_count": 4,
   "metadata": {},
   "outputs": [],
   "source": [
    "x = database.drop('Diagnóstico', axis=1)\n",
    "y = database['Diagnóstico']"
   ]
  },
  {
   "cell_type": "code",
   "execution_count": 5,
   "metadata": {},
   "outputs": [],
   "source": [
    "x_train,x_test,y_train,y_test = train_test_split_per_class(x,y,test_size=0.3)"
   ]
  },
  {
   "cell_type": "code",
   "execution_count": 6,
   "metadata": {},
   "outputs": [],
   "source": [
    "n_inputs = x.shape[1]\n",
    "n_hidden1 = 200\n",
    "n_hidden2 = 100\n",
    "n_outputs = len(y.unique())"
   ]
  },
  {
   "cell_type": "code",
   "execution_count": 7,
   "metadata": {},
   "outputs": [],
   "source": [
    "model = tf.keras.Sequential([tf.keras.layers.Dense(n_hidden1,activation = 'relu'),\n",
    "                             tf.keras.layers.Dense(n_hidden2,activation = 'relu'),\n",
    "                             tf.keras.layers.Dense(n_outputs,activation = 'softmax')])"
   ]
  },
  {
   "cell_type": "code",
   "execution_count": 8,
   "metadata": {},
   "outputs": [],
   "source": [
    "model.compile(optimizer='adam',\n",
    "              loss='sparse_categorical_crossentropy',\n",
    "              metrics=['accuracy'])"
   ]
  },
  {
   "cell_type": "code",
   "execution_count": 9,
   "metadata": {},
   "outputs": [
    {
     "name": "stdout",
     "output_type": "stream",
     "text": [
      "Train on 69 samples\n",
      "Epoch 1/20\n",
      "69/69 [==============================] - 1s 20ms/sample - loss: 1.7638 - accuracy: 0.2174\n",
      "Epoch 2/20\n",
      "69/69 [==============================] - 0s 636us/sample - loss: 1.4965 - accuracy: 0.4783\n",
      "Epoch 3/20\n",
      "69/69 [==============================] - 0s 477us/sample - loss: 1.1917 - accuracy: 0.6522\n",
      "Epoch 4/20\n",
      "69/69 [==============================] - 0s 549us/sample - loss: 1.0416 - accuracy: 0.6812\n",
      "Epoch 5/20\n",
      "69/69 [==============================] - 0s 679us/sample - loss: 0.9316 - accuracy: 0.7101\n",
      "Epoch 6/20\n",
      "69/69 [==============================] - 0s 708us/sample - loss: 0.8316 - accuracy: 0.7246\n",
      "Epoch 7/20\n",
      "69/69 [==============================] - 0s 796us/sample - loss: 0.7448 - accuracy: 0.7101\n",
      "Epoch 8/20\n",
      "69/69 [==============================] - 0s 867us/sample - loss: 0.6677 - accuracy: 0.8551\n",
      "Epoch 9/20\n",
      "69/69 [==============================] - 0s 491us/sample - loss: 0.6281 - accuracy: 0.8406\n",
      "Epoch 10/20\n",
      "69/69 [==============================] - 0s 607us/sample - loss: 0.5474 - accuracy: 0.8261\n",
      "Epoch 11/20\n",
      "69/69 [==============================] - 0s 925us/sample - loss: 0.5260 - accuracy: 0.8406\n",
      "Epoch 12/20\n",
      "69/69 [==============================] - 0s 752us/sample - loss: 0.4646 - accuracy: 0.8986\n",
      "Epoch 13/20\n",
      "69/69 [==============================] - 0s 1ms/sample - loss: 0.4265 - accuracy: 0.8841\n",
      "Epoch 14/20\n",
      "69/69 [==============================] - 0s 2ms/sample - loss: 0.3935 - accuracy: 0.8841\n",
      "Epoch 15/20\n",
      "69/69 [==============================] - 0s 907us/sample - loss: 0.3752 - accuracy: 0.8986\n",
      "Epoch 16/20\n",
      "69/69 [==============================] - 0s 843us/sample - loss: 0.3606 - accuracy: 0.8986\n",
      "Epoch 17/20\n",
      "69/69 [==============================] - 0s 1ms/sample - loss: 0.3274 - accuracy: 0.8986\n",
      "Epoch 18/20\n",
      "69/69 [==============================] - 0s 1ms/sample - loss: 0.2979 - accuracy: 0.9420\n",
      "Epoch 19/20\n",
      "69/69 [==============================] - 0s 914us/sample - loss: 0.2679 - accuracy: 0.9565\n",
      "Epoch 20/20\n",
      "69/69 [==============================] - 0s 1ms/sample - loss: 0.2782 - accuracy: 0.8986\n"
     ]
    },
    {
     "data": {
      "text/plain": [
       "<tensorflow.python.keras.callbacks.History at 0x1b9625babc8>"
      ]
     },
     "execution_count": 9,
     "metadata": {},
     "output_type": "execute_result"
    }
   ],
   "source": [
    "model.fit(x = x_train.to_numpy(),y = y_train.to_numpy(), batch_size = 10, epochs = 20)"
   ]
  },
  {
   "cell_type": "code",
   "execution_count": 10,
   "metadata": {},
   "outputs": [
    {
     "name": "stdout",
     "output_type": "stream",
     "text": [
      "\r",
      "31/1 [==================================================================================================================================================================================================================================================================================================================================================================================================================================================================================================================================================================================================================================================================================================================================================================================================================================================================================================================================================================] - 0s 6ms/sample - loss: 0.4347 - accuracy: 0.7742\n"
     ]
    }
   ],
   "source": [
    "loss, acc = model.evaluate(x_test.to_numpy(), y_test.to_numpy())"
   ]
  },
  {
   "cell_type": "code",
   "execution_count": 11,
   "metadata": {},
   "outputs": [],
   "source": [
    "y_pred = model.predict(x_test.to_numpy())"
   ]
  },
  {
   "cell_type": "code",
   "execution_count": 12,
   "metadata": {},
   "outputs": [],
   "source": [
    "y_pred_argmax = []\n",
    "for pred in y_pred:\n",
    "    y_pred_argmax.append(np.argmax(pred))"
   ]
  },
  {
   "cell_type": "code",
   "execution_count": 13,
   "metadata": {},
   "outputs": [
    {
     "name": "stdout",
     "output_type": "stream",
     "text": [
      "              precision    recall  f1-score   support\n",
      "\n",
      "           0       0.86      1.00      0.92         6\n",
      "           1       0.50      0.60      0.55         5\n",
      "           2       0.80      1.00      0.89         4\n",
      "           3       0.75      0.50      0.60         6\n",
      "           4       0.89      0.80      0.84        10\n",
      "\n",
      "    accuracy                           0.77        31\n",
      "   macro avg       0.76      0.78      0.76        31\n",
      "weighted avg       0.78      0.77      0.77        31\n",
      "\n"
     ]
    }
   ],
   "source": [
    "print(classification_report(y_pred = y_pred_argmax, y_true = y_test))"
   ]
  },
  {
   "cell_type": "code",
   "execution_count": null,
   "metadata": {},
   "outputs": [],
   "source": []
  }
 ],
 "metadata": {
  "kernelspec": {
   "display_name": "Python 3",
   "language": "python",
   "name": "python3"
  },
  "language_info": {
   "codemirror_mode": {
    "name": "ipython",
    "version": 3
   },
   "file_extension": ".py",
   "mimetype": "text/x-python",
   "name": "python",
   "nbconvert_exporter": "python",
   "pygments_lexer": "ipython3",
   "version": "3.7.4"
  }
 },
 "nbformat": 4,
 "nbformat_minor": 2
}
