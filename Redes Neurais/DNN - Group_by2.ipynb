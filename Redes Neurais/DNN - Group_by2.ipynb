{
 "cells": [
  {
   "cell_type": "code",
   "execution_count": 1,
   "metadata": {},
   "outputs": [],
   "source": [
    "import pandas as pd\n",
    "import numpy as np\n",
    "import tensorflow as tf\n",
    "# from sklearn.model_selection import train_test_split\n",
    "from sklearn.metrics import classification_report\n",
    "from model_selection import train_test_split_per_class"
   ]
  },
  {
   "cell_type": "code",
   "execution_count": 2,
   "metadata": {},
   "outputs": [],
   "source": [
    "database = pd.read_csv('group_by2.csv')"
   ]
  },
  {
   "cell_type": "code",
   "execution_count": 3,
   "metadata": {},
   "outputs": [],
   "source": [
    "database.drop('Unnamed: 0', axis=1, inplace=True)"
   ]
  },
  {
   "cell_type": "code",
   "execution_count": 4,
   "metadata": {},
   "outputs": [],
   "source": [
    "x = database.drop('Diagnóstico', axis=1)\n",
    "y = database['Diagnóstico']"
   ]
  },
  {
   "cell_type": "code",
   "execution_count": 5,
   "metadata": {},
   "outputs": [],
   "source": [
    "x_train,x_test,y_train,y_test = train_test_split_per_class(x,y,test_size=0.3)"
   ]
  },
  {
   "cell_type": "code",
   "execution_count": 6,
   "metadata": {},
   "outputs": [],
   "source": [
    "n_inputs = x.shape[1]\n",
    "n_hidden1 = 200\n",
    "n_hidden2 = 100\n",
    "n_outputs = len(y.unique())"
   ]
  },
  {
   "cell_type": "code",
   "execution_count": 7,
   "metadata": {},
   "outputs": [],
   "source": [
    "model = tf.keras.Sequential([tf.keras.layers.Dense(n_hidden1,activation = 'relu'),\n",
    "                             tf.keras.layers.Dense(n_hidden2,activation = 'relu'),\n",
    "                             tf.keras.layers.Dense(n_outputs,activation = 'softmax')])"
   ]
  },
  {
   "cell_type": "code",
   "execution_count": 8,
   "metadata": {},
   "outputs": [],
   "source": [
    "model.compile(optimizer='adam',\n",
    "              loss='sparse_categorical_crossentropy',\n",
    "              metrics=['accuracy'])"
   ]
  },
  {
   "cell_type": "code",
   "execution_count": 9,
   "metadata": {},
   "outputs": [
    {
     "name": "stdout",
     "output_type": "stream",
     "text": [
      "Train on 73 samples\n",
      "Epoch 1/20\n",
      "73/73 [==============================] - 1s 14ms/sample - loss: 2.5466 - accuracy: 0.2055\n",
      "Epoch 2/20\n",
      "73/73 [==============================] - 0s 765us/sample - loss: 1.6140 - accuracy: 0.5068\n",
      "Epoch 3/20\n",
      "73/73 [==============================] - 0s 479us/sample - loss: 1.4131 - accuracy: 0.5753\n",
      "Epoch 4/20\n",
      "73/73 [==============================] - 0s 492us/sample - loss: 1.1721 - accuracy: 0.6712\n",
      "Epoch 5/20\n",
      "73/73 [==============================] - 0s 560us/sample - loss: 1.0463 - accuracy: 0.7123\n",
      "Epoch 6/20\n",
      "73/73 [==============================] - 0s 637us/sample - loss: 0.9249 - accuracy: 0.7123\n",
      "Epoch 7/20\n",
      "73/73 [==============================] - 0s 437us/sample - loss: 0.8234 - accuracy: 0.7534\n",
      "Epoch 8/20\n",
      "73/73 [==============================] - 0s 424us/sample - loss: 0.7563 - accuracy: 0.8356\n",
      "Epoch 9/20\n",
      "73/73 [==============================] - 0s 642us/sample - loss: 0.6798 - accuracy: 0.8356\n",
      "Epoch 10/20\n",
      "73/73 [==============================] - 0s 643us/sample - loss: 0.6183 - accuracy: 0.8219\n",
      "Epoch 11/20\n",
      "73/73 [==============================] - 0s 560us/sample - loss: 0.5739 - accuracy: 0.8767\n",
      "Epoch 12/20\n",
      "73/73 [==============================] - 0s 519us/sample - loss: 0.5655 - accuracy: 0.8493\n",
      "Epoch 13/20\n",
      "73/73 [==============================] - 0s 519us/sample - loss: 0.4851 - accuracy: 0.8630\n",
      "Epoch 14/20\n",
      "73/73 [==============================] - 0s 464us/sample - loss: 0.5168 - accuracy: 0.8904\n",
      "Epoch 15/20\n",
      "73/73 [==============================] - 0s 560us/sample - loss: 0.4487 - accuracy: 0.8356\n",
      "Epoch 16/20\n",
      "73/73 [==============================] - 0s 622us/sample - loss: 0.3874 - accuracy: 0.8904\n",
      "Epoch 17/20\n",
      "73/73 [==============================] - 0s 465us/sample - loss: 0.3883 - accuracy: 0.8904\n",
      "Epoch 18/20\n",
      "73/73 [==============================] - 0s 464us/sample - loss: 0.3391 - accuracy: 0.9452\n",
      "Epoch 19/20\n",
      "73/73 [==============================] - 0s 609us/sample - loss: 0.3323 - accuracy: 0.9315\n",
      "Epoch 20/20\n",
      "73/73 [==============================] - 0s 382us/sample - loss: 0.2919 - accuracy: 0.9178\n"
     ]
    },
    {
     "data": {
      "text/plain": [
       "<tensorflow.python.keras.callbacks.History at 0x2b1f28e5348>"
      ]
     },
     "execution_count": 9,
     "metadata": {},
     "output_type": "execute_result"
    }
   ],
   "source": [
    "model.fit(x = x_train.to_numpy(),y = y_train.to_numpy(), batch_size = 10, epochs = 20)"
   ]
  },
  {
   "cell_type": "code",
   "execution_count": 10,
   "metadata": {},
   "outputs": [
    {
     "name": "stdout",
     "output_type": "stream",
     "text": [
      "31/1 [==================================================================================================================================================================================================================================================================================================================================================================================================================================================================================================================================================================================================================================================================================================================================================================================================================================================================================================================================================================] - 0s 2ms/sample - loss: 1.5373 - accuracy: 0.6129\n"
     ]
    }
   ],
   "source": [
    "loss, acc = model.evaluate(x_test.to_numpy(), y_test.to_numpy())"
   ]
  },
  {
   "cell_type": "code",
   "execution_count": 11,
   "metadata": {},
   "outputs": [],
   "source": [
    "y_pred = model.predict(x_test.to_numpy())"
   ]
  },
  {
   "cell_type": "code",
   "execution_count": 12,
   "metadata": {},
   "outputs": [],
   "source": [
    "y_pred_argmax = []\n",
    "for pred in y_pred:\n",
    "    y_pred_argmax.append(np.argmax(pred))"
   ]
  },
  {
   "cell_type": "code",
   "execution_count": 13,
   "metadata": {},
   "outputs": [
    {
     "name": "stdout",
     "output_type": "stream",
     "text": [
      "              precision    recall  f1-score   support\n",
      "\n",
      "           0       0.50      0.67      0.57         3\n",
      "           1       0.67      1.00      0.80         6\n",
      "           2       1.00      0.40      0.57         5\n",
      "           3       0.57      1.00      0.73         4\n",
      "           4       0.00      0.00      0.00         3\n",
      "           5       1.00      0.50      0.67         6\n",
      "           6       0.50      0.50      0.50         4\n",
      "\n",
      "    accuracy                           0.61        31\n",
      "   macro avg       0.61      0.58      0.55        31\n",
      "weighted avg       0.67      0.61      0.59        31\n",
      "\n"
     ]
    }
   ],
   "source": [
    "print(classification_report(y_pred = y_pred_argmax, y_true = y_test))"
   ]
  },
  {
   "cell_type": "code",
   "execution_count": null,
   "metadata": {},
   "outputs": [],
   "source": []
  }
 ],
 "metadata": {
  "kernelspec": {
   "display_name": "Python 3",
   "language": "python",
   "name": "python3"
  },
  "language_info": {
   "codemirror_mode": {
    "name": "ipython",
    "version": 3
   },
   "file_extension": ".py",
   "mimetype": "text/x-python",
   "name": "python",
   "nbconvert_exporter": "python",
   "pygments_lexer": "ipython3",
   "version": "3.7.4"
  }
 },
 "nbformat": 4,
 "nbformat_minor": 2
}
