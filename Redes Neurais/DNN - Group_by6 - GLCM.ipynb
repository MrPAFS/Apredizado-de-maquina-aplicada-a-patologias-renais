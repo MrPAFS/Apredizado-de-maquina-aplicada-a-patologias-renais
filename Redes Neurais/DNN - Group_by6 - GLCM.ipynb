{
 "cells": [
  {
   "cell_type": "code",
   "execution_count": 1,
   "metadata": {},
   "outputs": [],
   "source": [
    "import pandas as pd\n",
    "import numpy as np\n",
    "import tensorflow as tf\n",
    "# from sklearn.model_selection import train_test_split\n",
    "from sklearn.metrics import classification_report\n",
    "from model_selection import train_test_split_per_class"
   ]
  },
  {
   "cell_type": "code",
   "execution_count": 2,
   "metadata": {},
   "outputs": [],
   "source": [
    "database = pd.read_csv('group_by6_GLCM.csv')"
   ]
  },
  {
   "cell_type": "code",
   "execution_count": 3,
   "metadata": {},
   "outputs": [],
   "source": [
    "database.drop('Unnamed: 0', axis=1, inplace=True)"
   ]
  },
  {
   "cell_type": "code",
   "execution_count": 4,
   "metadata": {},
   "outputs": [],
   "source": [
    "x = database.drop('Diagnóstico', axis=1)\n",
    "y = database['Diagnóstico']"
   ]
  },
  {
   "cell_type": "code",
   "execution_count": 5,
   "metadata": {},
   "outputs": [],
   "source": [
    "x_train,x_test,y_train,y_test = train_test_split_per_class(x,y,test_size=0.2)"
   ]
  },
  {
   "cell_type": "code",
   "execution_count": 6,
   "metadata": {},
   "outputs": [],
   "source": [
    "n_inputs = x.shape[1]\n",
    "n_hidden1 = 200\n",
    "n_hidden2 = 100\n",
    "n_outputs = len(y.unique())"
   ]
  },
  {
   "cell_type": "code",
   "execution_count": 7,
   "metadata": {},
   "outputs": [],
   "source": [
    "model = tf.keras.Sequential([tf.keras.layers.Dense(n_hidden1,activation = 'relu'),\n",
    "                             tf.keras.layers.Dense(n_hidden2,activation = 'relu'),\n",
    "                             tf.keras.layers.Dense(n_outputs,activation = 'softmax')])"
   ]
  },
  {
   "cell_type": "code",
   "execution_count": 8,
   "metadata": {},
   "outputs": [],
   "source": [
    "model.compile(optimizer='adam',\n",
    "              loss='sparse_categorical_crossentropy',\n",
    "              metrics=['accuracy'])"
   ]
  },
  {
   "cell_type": "code",
   "execution_count": 9,
   "metadata": {},
   "outputs": [
    {
     "name": "stdout",
     "output_type": "stream",
     "text": [
      "Train on 57 samples\n",
      "Epoch 1/20\n",
      "57/57 [==============================] - 1s 18ms/sample - loss: 9.1775 - accuracy: 0.1930\n",
      "Epoch 2/20\n",
      "57/57 [==============================] - 0s 647us/sample - loss: 4.9816 - accuracy: 0.2632\n",
      "Epoch 3/20\n",
      "57/57 [==============================] - 0s 840us/sample - loss: 2.3802 - accuracy: 0.3860\n",
      "Epoch 4/20\n",
      "57/57 [==============================] - 0s 647us/sample - loss: 1.4618 - accuracy: 0.4737\n",
      "Epoch 5/20\n",
      "57/57 [==============================] - 0s 752us/sample - loss: 1.5502 - accuracy: 0.5965\n",
      "Epoch 6/20\n",
      "57/57 [==============================] - 0s 595us/sample - loss: 1.4718 - accuracy: 0.4737\n",
      "Epoch 7/20\n",
      "57/57 [==============================] - 0s 472us/sample - loss: 1.2317 - accuracy: 0.6491\n",
      "Epoch 8/20\n",
      "57/57 [==============================] - 0s 507us/sample - loss: 1.1799 - accuracy: 0.6316\n",
      "Epoch 9/20\n",
      "57/57 [==============================] - 0s 525us/sample - loss: 1.6643 - accuracy: 0.6140\n",
      "Epoch 10/20\n",
      "57/57 [==============================] - 0s 437us/sample - loss: 2.8139 - accuracy: 0.6140\n",
      "Epoch 11/20\n",
      "57/57 [==============================] - 0s 534us/sample - loss: 1.9031 - accuracy: 0.5789\n",
      "Epoch 12/20\n",
      "57/57 [==============================] - 0s 472us/sample - loss: 1.6523 - accuracy: 0.5965\n",
      "Epoch 13/20\n",
      "57/57 [==============================] - 0s 612us/sample - loss: 1.2760 - accuracy: 0.7544\n",
      "Epoch 14/20\n",
      "57/57 [==============================] - 0s 525us/sample - loss: 1.2499 - accuracy: 0.6667\n",
      "Epoch 15/20\n",
      "57/57 [==============================] - 0s 525us/sample - loss: 0.9389 - accuracy: 0.7895\n",
      "Epoch 16/20\n",
      "57/57 [==============================] - 0s 542us/sample - loss: 0.5114 - accuracy: 0.8246\n",
      "Epoch 17/20\n",
      "57/57 [==============================] - 0s 595us/sample - loss: 0.9235 - accuracy: 0.7719\n",
      "Epoch 18/20\n",
      "57/57 [==============================] - 0s 595us/sample - loss: 1.5084 - accuracy: 0.5965\n",
      "Epoch 19/20\n",
      "57/57 [==============================] - 0s 473us/sample - loss: 3.6308 - accuracy: 0.7368\n",
      "Epoch 20/20\n",
      "57/57 [==============================] - 0s 560us/sample - loss: 1.1067 - accuracy: 0.6842\n"
     ]
    },
    {
     "data": {
      "text/plain": [
       "<tensorflow.python.keras.callbacks.History at 0x1ed9b976bc8>"
      ]
     },
     "execution_count": 9,
     "metadata": {},
     "output_type": "execute_result"
    }
   ],
   "source": [
    "model.fit(x = x_train.to_numpy(),y = y_train.to_numpy(), batch_size = 10, epochs = 20)"
   ]
  },
  {
   "cell_type": "code",
   "execution_count": 10,
   "metadata": {},
   "outputs": [
    {
     "name": "stdout",
     "output_type": "stream",
     "text": [
      "\r",
      "16/1 [================================================================================================================================================================================================================================================================================================================================================================================================================================================================================================] - 0s 5ms/sample - loss: 2.2402 - accuracy: 0.3125\n"
     ]
    }
   ],
   "source": [
    "loss, acc = model.evaluate(x_test.to_numpy(), y_test.to_numpy())"
   ]
  },
  {
   "cell_type": "code",
   "execution_count": 11,
   "metadata": {},
   "outputs": [],
   "source": [
    "y_pred = model.predict(x_test.to_numpy())"
   ]
  },
  {
   "cell_type": "code",
   "execution_count": 12,
   "metadata": {},
   "outputs": [],
   "source": [
    "y_pred_argmax = []\n",
    "for pred in y_pred:\n",
    "    y_pred_argmax.append(np.argmax(pred))"
   ]
  },
  {
   "cell_type": "code",
   "execution_count": 13,
   "metadata": {},
   "outputs": [
    {
     "name": "stdout",
     "output_type": "stream",
     "text": [
      "              precision    recall  f1-score   support\n",
      "\n",
      "           0       0.50      0.57      0.53         7\n",
      "           1       0.00      0.00      0.00         3\n",
      "           2       0.25      0.50      0.33         2\n",
      "           3       0.00      0.00      0.00         4\n",
      "\n",
      "    accuracy                           0.31        16\n",
      "   macro avg       0.19      0.27      0.22        16\n",
      "weighted avg       0.25      0.31      0.28        16\n",
      "\n"
     ]
    },
    {
     "name": "stderr",
     "output_type": "stream",
     "text": [
      "C:\\Users\\panto\\AppData\\Local\\Continuum\\anaconda3\\lib\\site-packages\\sklearn\\metrics\\classification.py:1437: UndefinedMetricWarning: Precision and F-score are ill-defined and being set to 0.0 in labels with no predicted samples.\n",
      "  'precision', 'predicted', average, warn_for)\n"
     ]
    }
   ],
   "source": [
    "print(classification_report(y_pred = y_pred_argmax, y_true = y_test))"
   ]
  },
  {
   "cell_type": "code",
   "execution_count": null,
   "metadata": {},
   "outputs": [],
   "source": []
  }
 ],
 "metadata": {
  "kernelspec": {
   "display_name": "Python 3",
   "language": "python",
   "name": "python3"
  },
  "language_info": {
   "codemirror_mode": {
    "name": "ipython",
    "version": 3
   },
   "file_extension": ".py",
   "mimetype": "text/x-python",
   "name": "python",
   "nbconvert_exporter": "python",
   "pygments_lexer": "ipython3",
   "version": "3.7.4"
  }
 },
 "nbformat": 4,
 "nbformat_minor": 2
}
