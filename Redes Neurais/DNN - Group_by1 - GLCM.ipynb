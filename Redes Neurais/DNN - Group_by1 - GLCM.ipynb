{
 "cells": [
  {
   "cell_type": "code",
   "execution_count": 1,
   "metadata": {},
   "outputs": [],
   "source": [
    "import pandas as pd\n",
    "import numpy as np\n",
    "import tensorflow as tf\n",
    "# from sklearn.model_selection import train_test_split\n",
    "from sklearn.metrics import classification_report\n",
    "from model_selection import train_test_split_per_class"
   ]
  },
  {
   "cell_type": "code",
   "execution_count": 2,
   "metadata": {},
   "outputs": [],
   "source": [
    "database = pd.read_csv('group_by1_GLCM.csv')"
   ]
  },
  {
   "cell_type": "code",
   "execution_count": 3,
   "metadata": {},
   "outputs": [],
   "source": [
    "database.drop('Unnamed: 0', axis=1, inplace=True)"
   ]
  },
  {
   "cell_type": "code",
   "execution_count": 4,
   "metadata": {},
   "outputs": [],
   "source": [
    "x = database.drop('Diagnóstico', axis=1)\n",
    "y = database['Diagnóstico']"
   ]
  },
  {
   "cell_type": "code",
   "execution_count": 5,
   "metadata": {},
   "outputs": [],
   "source": [
    "x_train,x_test,y_train,y_test = train_test_split_per_class(x,y,test_size=0.2)"
   ]
  },
  {
   "cell_type": "code",
   "execution_count": 6,
   "metadata": {},
   "outputs": [],
   "source": [
    "n_inputs = x.shape[1]\n",
    "n_hidden1 = 200\n",
    "n_hidden2 = 100\n",
    "n_outputs = len(y.unique())"
   ]
  },
  {
   "cell_type": "code",
   "execution_count": 7,
   "metadata": {},
   "outputs": [],
   "source": [
    "model = tf.keras.Sequential([tf.keras.layers.Dense(n_hidden1,activation = 'relu'),\n",
    "                             tf.keras.layers.Dense(n_hidden2,activation = 'relu'),\n",
    "                             tf.keras.layers.Dense(n_outputs,activation = 'softmax')])"
   ]
  },
  {
   "cell_type": "code",
   "execution_count": 8,
   "metadata": {},
   "outputs": [],
   "source": [
    "model.compile(optimizer='adam',\n",
    "              loss='sparse_categorical_crossentropy',\n",
    "              metrics=['accuracy'])"
   ]
  },
  {
   "cell_type": "code",
   "execution_count": 9,
   "metadata": {},
   "outputs": [
    {
     "name": "stdout",
     "output_type": "stream",
     "text": [
      "Train on 54 samples\n",
      "Epoch 1/20\n",
      "54/54 [==============================] - 7s 123ms/sample - loss: 10.7775 - accuracy: 0.2407\n",
      "Epoch 2/20\n",
      "54/54 [==============================] - 0s 480us/sample - loss: 5.9539 - accuracy: 0.2778\n",
      "Epoch 3/20\n",
      "54/54 [==============================] - 0s 573us/sample - loss: 5.1345 - accuracy: 0.4630\n",
      "Epoch 4/20\n",
      "54/54 [==============================] - 0s 535us/sample - loss: 4.2364 - accuracy: 0.3519\n",
      "Epoch 5/20\n",
      "54/54 [==============================] - 0s 517us/sample - loss: 2.9165 - accuracy: 0.4444\n",
      "Epoch 6/20\n",
      "54/54 [==============================] - 0s 443us/sample - loss: 3.2820 - accuracy: 0.5185\n",
      "Epoch 7/20\n",
      "54/54 [==============================] - 0s 480us/sample - loss: 3.0634 - accuracy: 0.4815\n",
      "Epoch 8/20\n",
      "54/54 [==============================] - 0s 499us/sample - loss: 2.1458 - accuracy: 0.5926\n",
      "Epoch 9/20\n",
      "54/54 [==============================] - 0s 498us/sample - loss: 1.7126 - accuracy: 0.6296\n",
      "Epoch 10/20\n",
      "54/54 [==============================] - 0s 499us/sample - loss: 1.1230 - accuracy: 0.6667\n",
      "Epoch 11/20\n",
      "54/54 [==============================] - 0s 499us/sample - loss: 0.9729 - accuracy: 0.7037\n",
      "Epoch 12/20\n",
      "54/54 [==============================] - 0s 554us/sample - loss: 0.8580 - accuracy: 0.7222\n",
      "Epoch 13/20\n",
      "54/54 [==============================] - 0s 573us/sample - loss: 0.9581 - accuracy: 0.7037\n",
      "Epoch 14/20\n",
      "54/54 [==============================] - 0s 462us/sample - loss: 0.6048 - accuracy: 0.8519\n",
      "Epoch 15/20\n",
      "54/54 [==============================] - 0s 536us/sample - loss: 0.7563 - accuracy: 0.7778\n",
      "Epoch 16/20\n",
      "54/54 [==============================] - 0s 610us/sample - loss: 0.7835 - accuracy: 0.7407\n",
      "Epoch 17/20\n",
      "54/54 [==============================] - 0s 554us/sample - loss: 1.5314 - accuracy: 0.7037\n",
      "Epoch 18/20\n",
      "54/54 [==============================] - 0s 536us/sample - loss: 1.6649 - accuracy: 0.6481\n",
      "Epoch 19/20\n",
      "54/54 [==============================] - 0s 573us/sample - loss: 1.5164 - accuracy: 0.7037\n",
      "Epoch 20/20\n",
      "54/54 [==============================] - 0s 591us/sample - loss: 1.8018 - accuracy: 0.6667\n"
     ]
    },
    {
     "data": {
      "text/plain": [
       "<tensorflow.python.keras.callbacks.History at 0x22df5817288>"
      ]
     },
     "execution_count": 9,
     "metadata": {},
     "output_type": "execute_result"
    }
   ],
   "source": [
    "model.fit(x = x_train.to_numpy(),y = y_train.to_numpy(), batch_size = 10, epochs = 20)"
   ]
  },
  {
   "cell_type": "code",
   "execution_count": 10,
   "metadata": {},
   "outputs": [
    {
     "name": "stdout",
     "output_type": "stream",
     "text": [
      "\r",
      "17/1 [==============================================================================================================================================================================================================================================================================================================================================================================================================================================================================================================================] - 0s 5ms/sample - loss: 10.5339 - accuracy: 0.5294\n"
     ]
    }
   ],
   "source": [
    "loss, acc = model.evaluate(x_test.to_numpy(), y_test.to_numpy())"
   ]
  },
  {
   "cell_type": "code",
   "execution_count": 11,
   "metadata": {},
   "outputs": [],
   "source": [
    "y_pred = model.predict(x_test.to_numpy())"
   ]
  },
  {
   "cell_type": "code",
   "execution_count": 12,
   "metadata": {},
   "outputs": [],
   "source": [
    "y_pred_argmax = []\n",
    "for pred in y_pred:\n",
    "    y_pred_argmax.append(np.argmax(pred))"
   ]
  },
  {
   "cell_type": "code",
   "execution_count": 13,
   "metadata": {},
   "outputs": [
    {
     "name": "stdout",
     "output_type": "stream",
     "text": [
      "              precision    recall  f1-score   support\n",
      "\n",
      "           0       0.00      0.00      0.00         2\n",
      "           1       0.62      0.71      0.67         7\n",
      "           2       0.40      0.67      0.50         3\n",
      "           3       0.50      0.50      0.50         2\n",
      "           4       0.00      0.00      0.00         1\n",
      "           5       0.50      0.50      0.50         2\n",
      "\n",
      "    accuracy                           0.53        17\n",
      "   macro avg       0.34      0.40      0.36        17\n",
      "weighted avg       0.45      0.53      0.48        17\n",
      "\n"
     ]
    },
    {
     "name": "stderr",
     "output_type": "stream",
     "text": [
      "C:\\Users\\panto\\AppData\\Local\\Continuum\\anaconda3\\lib\\site-packages\\sklearn\\metrics\\classification.py:1437: UndefinedMetricWarning: Precision and F-score are ill-defined and being set to 0.0 in labels with no predicted samples.\n",
      "  'precision', 'predicted', average, warn_for)\n"
     ]
    }
   ],
   "source": [
    "print(classification_report(y_pred = y_pred_argmax, y_true = y_test))"
   ]
  },
  {
   "cell_type": "code",
   "execution_count": null,
   "metadata": {},
   "outputs": [],
   "source": []
  }
 ],
 "metadata": {
  "kernelspec": {
   "display_name": "Python 3",
   "language": "python",
   "name": "python3"
  },
  "language_info": {
   "codemirror_mode": {
    "name": "ipython",
    "version": 3
   },
   "file_extension": ".py",
   "mimetype": "text/x-python",
   "name": "python",
   "nbconvert_exporter": "python",
   "pygments_lexer": "ipython3",
   "version": "3.7.4"
  }
 },
 "nbformat": 4,
 "nbformat_minor": 2
}
