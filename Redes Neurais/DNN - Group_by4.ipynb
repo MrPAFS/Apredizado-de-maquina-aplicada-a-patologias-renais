{
 "cells": [
  {
   "cell_type": "code",
   "execution_count": 1,
   "metadata": {},
   "outputs": [],
   "source": [
    "import pandas as pd\n",
    "import numpy as np\n",
    "import tensorflow as tf\n",
    "# from sklearn.model_selection import train_test_split\n",
    "from sklearn.metrics import classification_report\n",
    "from model_selection import train_test_split_per_class"
   ]
  },
  {
   "cell_type": "code",
   "execution_count": 2,
   "metadata": {},
   "outputs": [],
   "source": [
    "database = pd.read_csv('group_by4.csv')"
   ]
  },
  {
   "cell_type": "code",
   "execution_count": 3,
   "metadata": {},
   "outputs": [],
   "source": [
    "database.drop('Unnamed: 0', axis=1, inplace=True)"
   ]
  },
  {
   "cell_type": "code",
   "execution_count": 4,
   "metadata": {},
   "outputs": [],
   "source": [
    "x = database.drop('Diagnóstico', axis=1)\n",
    "y = database['Diagnóstico']"
   ]
  },
  {
   "cell_type": "code",
   "execution_count": 5,
   "metadata": {},
   "outputs": [],
   "source": [
    "x_train,x_test,y_train,y_test = train_test_split_per_class(x,y,test_size=0.3)"
   ]
  },
  {
   "cell_type": "code",
   "execution_count": 6,
   "metadata": {},
   "outputs": [],
   "source": [
    "n_inputs = x.shape[1]\n",
    "n_hidden1 = 200\n",
    "n_hidden2 = 100\n",
    "n_outputs = len(y.unique())"
   ]
  },
  {
   "cell_type": "code",
   "execution_count": 7,
   "metadata": {},
   "outputs": [],
   "source": [
    "model = tf.keras.Sequential([tf.keras.layers.Dense(n_hidden1,activation = 'relu'),\n",
    "                             tf.keras.layers.Dense(n_hidden2,activation = 'relu'),\n",
    "                             tf.keras.layers.Dense(n_outputs,activation = 'softmax')])"
   ]
  },
  {
   "cell_type": "code",
   "execution_count": 8,
   "metadata": {},
   "outputs": [],
   "source": [
    "model.compile(optimizer='adam',\n",
    "              loss='sparse_categorical_crossentropy',\n",
    "              metrics=['accuracy'])"
   ]
  },
  {
   "cell_type": "code",
   "execution_count": 9,
   "metadata": {},
   "outputs": [
    {
     "name": "stdout",
     "output_type": "stream",
     "text": [
      "Train on 76 samples\n",
      "Epoch 1/20\n",
      "76/76 [==============================] - 1s 12ms/sample - loss: 2.1961 - accuracy: 0.2500\n",
      "Epoch 2/20\n",
      "76/76 [==============================] - 0s 472us/sample - loss: 1.5466 - accuracy: 0.3421\n",
      "Epoch 3/20\n",
      "76/76 [==============================] - 0s 472us/sample - loss: 1.3018 - accuracy: 0.5395\n",
      "Epoch 4/20\n",
      "76/76 [==============================] - 0s 414us/sample - loss: 1.1182 - accuracy: 0.7237\n",
      "Epoch 5/20\n",
      "76/76 [==============================] - 0s 446us/sample - loss: 1.0023 - accuracy: 0.7237\n",
      "Epoch 6/20\n",
      "76/76 [==============================] - 0s 459us/sample - loss: 0.9070 - accuracy: 0.7237\n",
      "Epoch 7/20\n",
      "76/76 [==============================] - 0s 433us/sample - loss: 0.7981 - accuracy: 0.8026\n",
      "Epoch 8/20\n",
      "76/76 [==============================] - 0s 407us/sample - loss: 0.7181 - accuracy: 0.8421\n",
      "Epoch 9/20\n",
      "76/76 [==============================] - 0s 446us/sample - loss: 0.6658 - accuracy: 0.8158\n",
      "Epoch 10/20\n",
      "76/76 [==============================] - 0s 407us/sample - loss: 0.5803 - accuracy: 0.8816\n",
      "Epoch 11/20\n",
      "76/76 [==============================] - 0s 393us/sample - loss: 0.5379 - accuracy: 0.8684\n",
      "Epoch 12/20\n",
      "76/76 [==============================] - 0s 407us/sample - loss: 0.5481 - accuracy: 0.8421\n",
      "Epoch 13/20\n",
      "76/76 [==============================] - 0s 406us/sample - loss: 0.4520 - accuracy: 0.8816\n",
      "Epoch 14/20\n",
      "76/76 [==============================] - 0s 407us/sample - loss: 0.4233 - accuracy: 0.8947\n",
      "Epoch 15/20\n",
      "76/76 [==============================] - 0s 486us/sample - loss: 0.3950 - accuracy: 0.8947\n",
      "Epoch 16/20\n",
      "76/76 [==============================] - 0s 472us/sample - loss: 0.3722 - accuracy: 0.9342\n",
      "Epoch 17/20\n",
      "76/76 [==============================] - 0s 486us/sample - loss: 0.3437 - accuracy: 0.9211\n",
      "Epoch 18/20\n",
      "76/76 [==============================] - 0s 420us/sample - loss: 0.3321 - accuracy: 0.8684\n",
      "Epoch 19/20\n",
      "76/76 [==============================] - 0s 591us/sample - loss: 0.3106 - accuracy: 0.9211\n",
      "Epoch 20/20\n",
      "76/76 [==============================] - 0s 381us/sample - loss: 0.3030 - accuracy: 0.9474\n"
     ]
    },
    {
     "data": {
      "text/plain": [
       "<tensorflow.python.keras.callbacks.History at 0x1e874f46388>"
      ]
     },
     "execution_count": 9,
     "metadata": {},
     "output_type": "execute_result"
    }
   ],
   "source": [
    "model.fit(x = x_train.to_numpy(),y = y_train.to_numpy(), batch_size = 10, epochs = 20)"
   ]
  },
  {
   "cell_type": "code",
   "execution_count": 10,
   "metadata": {},
   "outputs": [
    {
     "name": "stdout",
     "output_type": "stream",
     "text": [
      "\r",
      "31/1 [==================================================================================================================================================================================================================================================================================================================================================================================================================================================================================================================================================================================================================================================================================================================================================================================================================================================================================================================================================================] - 0s 2ms/sample - loss: 1.0223 - accuracy: 0.8065\n"
     ]
    }
   ],
   "source": [
    "loss, acc = model.evaluate(x_test.to_numpy(), y_test.to_numpy())"
   ]
  },
  {
   "cell_type": "code",
   "execution_count": 11,
   "metadata": {},
   "outputs": [],
   "source": [
    "y_pred = model.predict(x_test.to_numpy())"
   ]
  },
  {
   "cell_type": "code",
   "execution_count": 12,
   "metadata": {},
   "outputs": [],
   "source": [
    "y_pred_argmax = []\n",
    "for pred in y_pred:\n",
    "    y_pred_argmax.append(np.argmax(pred))"
   ]
  },
  {
   "cell_type": "code",
   "execution_count": 13,
   "metadata": {},
   "outputs": [
    {
     "name": "stdout",
     "output_type": "stream",
     "text": [
      "              precision    recall  f1-score   support\n",
      "\n",
      "           0       1.00      0.33      0.50         3\n",
      "           1       0.67      1.00      0.80         6\n",
      "           2       1.00      0.40      0.57         5\n",
      "           3       1.00      1.00      1.00         4\n",
      "           4       0.75      1.00      0.86         6\n",
      "           5       0.86      0.86      0.86         7\n",
      "\n",
      "    accuracy                           0.81        31\n",
      "   macro avg       0.88      0.77      0.76        31\n",
      "weighted avg       0.85      0.81      0.78        31\n",
      "\n"
     ]
    }
   ],
   "source": [
    "print(classification_report(y_pred = y_pred_argmax, y_true = y_test))"
   ]
  },
  {
   "cell_type": "code",
   "execution_count": null,
   "metadata": {},
   "outputs": [],
   "source": []
  }
 ],
 "metadata": {
  "kernelspec": {
   "display_name": "Python 3",
   "language": "python",
   "name": "python3"
  },
  "language_info": {
   "codemirror_mode": {
    "name": "ipython",
    "version": 3
   },
   "file_extension": ".py",
   "mimetype": "text/x-python",
   "name": "python",
   "nbconvert_exporter": "python",
   "pygments_lexer": "ipython3",
   "version": "3.7.4"
  }
 },
 "nbformat": 4,
 "nbformat_minor": 2
}
