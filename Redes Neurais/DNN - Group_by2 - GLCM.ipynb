{
 "cells": [
  {
   "cell_type": "code",
   "execution_count": 1,
   "metadata": {},
   "outputs": [],
   "source": [
    "import pandas as pd\n",
    "import numpy as np\n",
    "import tensorflow as tf\n",
    "# from sklearn.model_selection import train_test_split\n",
    "from sklearn.metrics import classification_report\n",
    "from model_selection import train_test_split_per_class"
   ]
  },
  {
   "cell_type": "code",
   "execution_count": 2,
   "metadata": {},
   "outputs": [],
   "source": [
    "database = pd.read_csv('group_by2_GLCM.csv')"
   ]
  },
  {
   "cell_type": "code",
   "execution_count": 3,
   "metadata": {},
   "outputs": [],
   "source": [
    "database.drop('Unnamed: 0', axis=1, inplace=True)"
   ]
  },
  {
   "cell_type": "code",
   "execution_count": 4,
   "metadata": {},
   "outputs": [],
   "source": [
    "x = database.drop('Diagnóstico', axis=1)\n",
    "y = database['Diagnóstico']"
   ]
  },
  {
   "cell_type": "code",
   "execution_count": 5,
   "metadata": {},
   "outputs": [],
   "source": [
    "x_train,x_test,y_train,y_test = train_test_split_per_class(x,y,test_size=0.2)"
   ]
  },
  {
   "cell_type": "code",
   "execution_count": 6,
   "metadata": {},
   "outputs": [],
   "source": [
    "n_inputs = x.shape[1]\n",
    "n_hidden1 = 200\n",
    "n_hidden2 = 100\n",
    "n_outputs = len(y.unique())"
   ]
  },
  {
   "cell_type": "code",
   "execution_count": 7,
   "metadata": {},
   "outputs": [],
   "source": [
    "model = tf.keras.Sequential([tf.keras.layers.Dense(n_hidden1,activation = 'relu'),\n",
    "                             tf.keras.layers.Dense(n_hidden2,activation = 'relu'),\n",
    "                             tf.keras.layers.Dense(n_outputs,activation = 'softmax')])"
   ]
  },
  {
   "cell_type": "code",
   "execution_count": 8,
   "metadata": {},
   "outputs": [],
   "source": [
    "model.compile(optimizer='adam',\n",
    "              loss='sparse_categorical_crossentropy',\n",
    "              metrics=['accuracy'])"
   ]
  },
  {
   "cell_type": "code",
   "execution_count": 9,
   "metadata": {},
   "outputs": [
    {
     "name": "stdout",
     "output_type": "stream",
     "text": [
      "Train on 55 samples\n",
      "Epoch 1/20\n",
      "55/55 [==============================] - 1s 17ms/sample - loss: 14.3192 - accuracy: 0.1273\n",
      "Epoch 2/20\n",
      "55/55 [==============================] - 0s 526us/sample - loss: 4.5694 - accuracy: 0.2909\n",
      "Epoch 3/20\n",
      "55/55 [==============================] - 0s 598us/sample - loss: 5.3628 - accuracy: 0.2909\n",
      "Epoch 4/20\n",
      "55/55 [==============================] - 0s 544us/sample - loss: 5.2082 - accuracy: 0.3455\n",
      "Epoch 5/20\n",
      "55/55 [==============================] - 0s 490us/sample - loss: 4.0302 - accuracy: 0.3091\n",
      "Epoch 6/20\n",
      "55/55 [==============================] - 0s 471us/sample - loss: 3.7108 - accuracy: 0.4182\n",
      "Epoch 7/20\n",
      "55/55 [==============================] - 0s 471us/sample - loss: 2.4432 - accuracy: 0.4909\n",
      "Epoch 8/20\n",
      "55/55 [==============================] - 0s 508us/sample - loss: 2.9444 - accuracy: 0.5091\n",
      "Epoch 9/20\n",
      "55/55 [==============================] - 0s 526us/sample - loss: 1.8585 - accuracy: 0.4182\n",
      "Epoch 10/20\n",
      "55/55 [==============================] - 0s 508us/sample - loss: 1.9331 - accuracy: 0.4000\n",
      "Epoch 11/20\n",
      "55/55 [==============================] - 0s 453us/sample - loss: 2.5846 - accuracy: 0.5273\n",
      "Epoch 12/20\n",
      "55/55 [==============================] - 0s 508us/sample - loss: 1.7115 - accuracy: 0.5818\n",
      "Epoch 13/20\n",
      "55/55 [==============================] - 0s 526us/sample - loss: 1.2539 - accuracy: 0.6545\n",
      "Epoch 14/20\n",
      "55/55 [==============================] - 0s 580us/sample - loss: 1.6556 - accuracy: 0.6000\n",
      "Epoch 15/20\n",
      "55/55 [==============================] - 0s 508us/sample - loss: 1.4590 - accuracy: 0.6182\n",
      "Epoch 16/20\n",
      "55/55 [==============================] - 0s 617us/sample - loss: 1.8412 - accuracy: 0.6000\n",
      "Epoch 17/20\n",
      "55/55 [==============================] - 0s 526us/sample - loss: 1.6473 - accuracy: 0.5818\n",
      "Epoch 18/20\n",
      "55/55 [==============================] - 0s 562us/sample - loss: 3.0250 - accuracy: 0.4909\n",
      "Epoch 19/20\n",
      "55/55 [==============================] - 0s 580us/sample - loss: 1.9744 - accuracy: 0.5818\n",
      "Epoch 20/20\n",
      "55/55 [==============================] - 0s 689us/sample - loss: 3.5616 - accuracy: 0.5091\n"
     ]
    },
    {
     "data": {
      "text/plain": [
       "<tensorflow.python.keras.callbacks.History at 0x17fe6807388>"
      ]
     },
     "execution_count": 9,
     "metadata": {},
     "output_type": "execute_result"
    }
   ],
   "source": [
    "model.fit(x = x_train.to_numpy(),y = y_train.to_numpy(), batch_size = 10, epochs = 20)"
   ]
  },
  {
   "cell_type": "code",
   "execution_count": 10,
   "metadata": {},
   "outputs": [
    {
     "name": "stdout",
     "output_type": "stream",
     "text": [
      "\r",
      "17/1 [==============================================================================================================================================================================================================================================================================================================================================================================================================================================================================================================================] - 0s 8ms/sample - loss: 3.3446 - accuracy: 0.4706\n"
     ]
    }
   ],
   "source": [
    "loss, acc = model.evaluate(x_test.to_numpy(), y_test.to_numpy())"
   ]
  },
  {
   "cell_type": "code",
   "execution_count": 11,
   "metadata": {},
   "outputs": [],
   "source": [
    "y_pred = model.predict(x_test.to_numpy())"
   ]
  },
  {
   "cell_type": "code",
   "execution_count": 12,
   "metadata": {},
   "outputs": [],
   "source": [
    "y_pred_argmax = []\n",
    "for pred in y_pred:\n",
    "    y_pred_argmax.append(np.argmax(pred))"
   ]
  },
  {
   "cell_type": "code",
   "execution_count": 13,
   "metadata": {},
   "outputs": [
    {
     "name": "stdout",
     "output_type": "stream",
     "text": [
      "              precision    recall  f1-score   support\n",
      "\n",
      "           0       0.29      1.00      0.44         2\n",
      "           1       0.43      1.00      0.60         3\n",
      "           2       0.00      0.00      0.00         3\n",
      "           3       1.00      0.50      0.67         2\n",
      "           4       0.00      0.00      0.00         1\n",
      "           5       1.00      0.25      0.40         4\n",
      "           6       1.00      0.50      0.67         2\n",
      "\n",
      "    accuracy                           0.47        17\n",
      "   macro avg       0.53      0.46      0.40        17\n",
      "weighted avg       0.58      0.47      0.41        17\n",
      "\n"
     ]
    },
    {
     "name": "stderr",
     "output_type": "stream",
     "text": [
      "C:\\Users\\panto\\AppData\\Local\\Continuum\\anaconda3\\lib\\site-packages\\sklearn\\metrics\\classification.py:1437: UndefinedMetricWarning: Precision and F-score are ill-defined and being set to 0.0 in labels with no predicted samples.\n",
      "  'precision', 'predicted', average, warn_for)\n"
     ]
    }
   ],
   "source": [
    "print(classification_report(y_pred = y_pred_argmax, y_true = y_test))"
   ]
  },
  {
   "cell_type": "code",
   "execution_count": null,
   "metadata": {},
   "outputs": [],
   "source": []
  }
 ],
 "metadata": {
  "kernelspec": {
   "display_name": "Python 3",
   "language": "python",
   "name": "python3"
  },
  "language_info": {
   "codemirror_mode": {
    "name": "ipython",
    "version": 3
   },
   "file_extension": ".py",
   "mimetype": "text/x-python",
   "name": "python",
   "nbconvert_exporter": "python",
   "pygments_lexer": "ipython3",
   "version": "3.7.4"
  }
 },
 "nbformat": 4,
 "nbformat_minor": 2
}
