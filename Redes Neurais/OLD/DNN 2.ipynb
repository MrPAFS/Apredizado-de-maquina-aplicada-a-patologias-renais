{
 "cells": [
  {
   "cell_type": "code",
   "execution_count": 1,
   "metadata": {},
   "outputs": [],
   "source": [
    "import tensorflow as tf\n",
    "from sklearn.model_selection import train_test_split\n",
    "import pandas as pd\n",
    "import numpy as np"
   ]
  },
  {
   "cell_type": "code",
   "execution_count": 2,
   "metadata": {},
   "outputs": [],
   "source": [
    "base = pd.read_csv('Base_transformada_Glomerulonefrite.csv')"
   ]
  },
  {
   "cell_type": "code",
   "execution_count": 3,
   "metadata": {},
   "outputs": [],
   "source": [
    "base.drop('Unnamed: 0', axis = 1, inplace = True)"
   ]
  },
  {
   "cell_type": "code",
   "execution_count": 4,
   "metadata": {},
   "outputs": [
    {
     "data": {
      "text/html": [
       "<div>\n",
       "<style scoped>\n",
       "    .dataframe tbody tr th:only-of-type {\n",
       "        vertical-align: middle;\n",
       "    }\n",
       "\n",
       "    .dataframe tbody tr th {\n",
       "        vertical-align: top;\n",
       "    }\n",
       "\n",
       "    .dataframe thead th {\n",
       "        text-align: right;\n",
       "    }\n",
       "</style>\n",
       "<table border=\"1\" class=\"dataframe\">\n",
       "  <thead>\n",
       "    <tr style=\"text-align: right;\">\n",
       "      <th></th>\n",
       "      <th>Matriz mesangial</th>\n",
       "      <th>Celularidade mesangial</th>\n",
       "      <th>Membrana basal glomerular</th>\n",
       "      <th>Espaço de Bowman</th>\n",
       "      <th>Tufo glomerular</th>\n",
       "      <th>Podócito</th>\n",
       "      <th>Necrose tubular aguda</th>\n",
       "      <th>Vacuolização do epitélio</th>\n",
       "      <th>Cristais</th>\n",
       "      <th>Calcificação</th>\n",
       "      <th>...</th>\n",
       "      <th>Hialinose</th>\n",
       "      <th>Necrose Fibrinóide</th>\n",
       "      <th>IMUNOFLUORESCÊNCIA</th>\n",
       "      <th>padrão de deposição</th>\n",
       "      <th>Imunodepósitos</th>\n",
       "      <th>Imunohistoquímica</th>\n",
       "      <th>Microscopia eletrônica</th>\n",
       "      <th>vermelho congo</th>\n",
       "      <th>Clínica</th>\n",
       "      <th>Diagnóstico</th>\n",
       "    </tr>\n",
       "  </thead>\n",
       "  <tbody>\n",
       "    <tr>\n",
       "      <td>0</td>\n",
       "      <td>0</td>\n",
       "      <td>0</td>\n",
       "      <td>0</td>\n",
       "      <td>0</td>\n",
       "      <td>0</td>\n",
       "      <td>0</td>\n",
       "      <td>0</td>\n",
       "      <td>0</td>\n",
       "      <td>0</td>\n",
       "      <td>0</td>\n",
       "      <td>...</td>\n",
       "      <td>0</td>\n",
       "      <td>0</td>\n",
       "      <td>0</td>\n",
       "      <td>0</td>\n",
       "      <td>0</td>\n",
       "      <td>0</td>\n",
       "      <td>0</td>\n",
       "      <td>0</td>\n",
       "      <td>0</td>\n",
       "      <td>0</td>\n",
       "    </tr>\n",
       "    <tr>\n",
       "      <td>1</td>\n",
       "      <td>0</td>\n",
       "      <td>0</td>\n",
       "      <td>0</td>\n",
       "      <td>0</td>\n",
       "      <td>0</td>\n",
       "      <td>0</td>\n",
       "      <td>0</td>\n",
       "      <td>0</td>\n",
       "      <td>0</td>\n",
       "      <td>0</td>\n",
       "      <td>...</td>\n",
       "      <td>0</td>\n",
       "      <td>0</td>\n",
       "      <td>0</td>\n",
       "      <td>0</td>\n",
       "      <td>0</td>\n",
       "      <td>0</td>\n",
       "      <td>1</td>\n",
       "      <td>0</td>\n",
       "      <td>1</td>\n",
       "      <td>0</td>\n",
       "    </tr>\n",
       "    <tr>\n",
       "      <td>2</td>\n",
       "      <td>1</td>\n",
       "      <td>0</td>\n",
       "      <td>0</td>\n",
       "      <td>1</td>\n",
       "      <td>1</td>\n",
       "      <td>1</td>\n",
       "      <td>0</td>\n",
       "      <td>0</td>\n",
       "      <td>0</td>\n",
       "      <td>0</td>\n",
       "      <td>...</td>\n",
       "      <td>0</td>\n",
       "      <td>0</td>\n",
       "      <td>1</td>\n",
       "      <td>1</td>\n",
       "      <td>1</td>\n",
       "      <td>0</td>\n",
       "      <td>2</td>\n",
       "      <td>0</td>\n",
       "      <td>0</td>\n",
       "      <td>0</td>\n",
       "    </tr>\n",
       "    <tr>\n",
       "      <td>3</td>\n",
       "      <td>0</td>\n",
       "      <td>0</td>\n",
       "      <td>1</td>\n",
       "      <td>0</td>\n",
       "      <td>0</td>\n",
       "      <td>0</td>\n",
       "      <td>0</td>\n",
       "      <td>0</td>\n",
       "      <td>0</td>\n",
       "      <td>0</td>\n",
       "      <td>...</td>\n",
       "      <td>0</td>\n",
       "      <td>0</td>\n",
       "      <td>1</td>\n",
       "      <td>2</td>\n",
       "      <td>2</td>\n",
       "      <td>1</td>\n",
       "      <td>3</td>\n",
       "      <td>0</td>\n",
       "      <td>0</td>\n",
       "      <td>0</td>\n",
       "    </tr>\n",
       "    <tr>\n",
       "      <td>4</td>\n",
       "      <td>2</td>\n",
       "      <td>0</td>\n",
       "      <td>2</td>\n",
       "      <td>1</td>\n",
       "      <td>0</td>\n",
       "      <td>0</td>\n",
       "      <td>0</td>\n",
       "      <td>0</td>\n",
       "      <td>0</td>\n",
       "      <td>0</td>\n",
       "      <td>...</td>\n",
       "      <td>0</td>\n",
       "      <td>0</td>\n",
       "      <td>1</td>\n",
       "      <td>2</td>\n",
       "      <td>2</td>\n",
       "      <td>1</td>\n",
       "      <td>3</td>\n",
       "      <td>0</td>\n",
       "      <td>0</td>\n",
       "      <td>0</td>\n",
       "    </tr>\n",
       "  </tbody>\n",
       "</table>\n",
       "<p>5 rows × 31 columns</p>\n",
       "</div>"
      ],
      "text/plain": [
       "   Matriz mesangial  Celularidade mesangial  Membrana basal glomerular  \\\n",
       "0                 0                       0                          0   \n",
       "1                 0                       0                          0   \n",
       "2                 1                       0                          0   \n",
       "3                 0                       0                          1   \n",
       "4                 2                       0                          2   \n",
       "\n",
       "   Espaço de Bowman  Tufo glomerular  Podócito  Necrose tubular aguda  \\\n",
       "0                 0                0         0                      0   \n",
       "1                 0                0         0                      0   \n",
       "2                 1                1         1                      0   \n",
       "3                 0                0         0                      0   \n",
       "4                 1                0         0                      0   \n",
       "\n",
       "   Vacuolização do epitélio  Cristais  Calcificação  ...  Hialinose  \\\n",
       "0                         0         0             0  ...          0   \n",
       "1                         0         0             0  ...          0   \n",
       "2                         0         0             0  ...          0   \n",
       "3                         0         0             0  ...          0   \n",
       "4                         0         0             0  ...          0   \n",
       "\n",
       "   Necrose Fibrinóide  IMUNOFLUORESCÊNCIA  padrão de deposição  \\\n",
       "0                   0                   0                    0   \n",
       "1                   0                   0                    0   \n",
       "2                   0                   1                    1   \n",
       "3                   0                   1                    2   \n",
       "4                   0                   1                    2   \n",
       "\n",
       "   Imunodepósitos  Imunohistoquímica  Microscopia eletrônica  vermelho congo  \\\n",
       "0               0                  0                       0               0   \n",
       "1               0                  0                       1               0   \n",
       "2               1                  0                       2               0   \n",
       "3               2                  1                       3               0   \n",
       "4               2                  1                       3               0   \n",
       "\n",
       "   Clínica  Diagnóstico  \n",
       "0        0            0  \n",
       "1        1            0  \n",
       "2        0            0  \n",
       "3        0            0  \n",
       "4        0            0  \n",
       "\n",
       "[5 rows x 31 columns]"
      ]
     },
     "execution_count": 4,
     "metadata": {},
     "output_type": "execute_result"
    }
   ],
   "source": [
    "base.head()"
   ]
  },
  {
   "cell_type": "code",
   "execution_count": 5,
   "metadata": {},
   "outputs": [],
   "source": [
    "x = base.drop('Diagnóstico', axis=1)\n",
    "y = base['Diagnóstico']"
   ]
  },
  {
   "cell_type": "code",
   "execution_count": 6,
   "metadata": {},
   "outputs": [],
   "source": [
    "x_train,x_test,y_train,y_test = train_test_split(x,y,test_size=0.3)"
   ]
  },
  {
   "cell_type": "code",
   "execution_count": 7,
   "metadata": {},
   "outputs": [],
   "source": [
    "n_inputs = x.shape[1]\n",
    "n_hidden1 = 200\n",
    "n_hidden2 = 100\n",
    "n_outputs = len(y.unique())"
   ]
  },
  {
   "cell_type": "code",
   "execution_count": 8,
   "metadata": {},
   "outputs": [],
   "source": [
    "model = tf.keras.Sequential([tf.keras.layers.Dense(n_hidden1,activation = 'relu'),\n",
    "                             tf.keras.layers.Dense(n_hidden2,activation = 'relu'),\n",
    "                             tf.keras.layers.Dense(n_outputs,activation = 'softmax')])"
   ]
  },
  {
   "cell_type": "code",
   "execution_count": 9,
   "metadata": {},
   "outputs": [],
   "source": [
    "model.compile(optimizer='adam',\n",
    "              loss='sparse_categorical_crossentropy',\n",
    "              metrics=['accuracy'])"
   ]
  },
  {
   "cell_type": "code",
   "execution_count": 10,
   "metadata": {},
   "outputs": [
    {
     "name": "stdout",
     "output_type": "stream",
     "text": [
      "Train on 70 samples\n",
      "Epoch 1/20\n",
      "70/70 [==============================] - 1s 7ms/sample - loss: 1.0125 - accuracy: 0.5571\n",
      "Epoch 2/20\n",
      "70/70 [==============================] - 0s 199us/sample - loss: 0.6343 - accuracy: 0.7143\n",
      "Epoch 3/20\n",
      "70/70 [==============================] - 0s 229us/sample - loss: 0.4095 - accuracy: 0.8286\n",
      "Epoch 4/20\n",
      "70/70 [==============================] - 0s 228us/sample - loss: 0.3679 - accuracy: 0.8857\n",
      "Epoch 5/20\n",
      "70/70 [==============================] - 0s 242us/sample - loss: 0.2873 - accuracy: 0.9429\n",
      "Epoch 6/20\n",
      "70/70 [==============================] - 0s 257us/sample - loss: 0.2324 - accuracy: 0.9286\n",
      "Epoch 7/20\n",
      "70/70 [==============================] - 0s 228us/sample - loss: 0.2058 - accuracy: 0.9571\n",
      "Epoch 8/20\n",
      "70/70 [==============================] - 0s 242us/sample - loss: 0.1800 - accuracy: 0.9571\n",
      "Epoch 9/20\n",
      "70/70 [==============================] - 0s 242us/sample - loss: 0.1662 - accuracy: 0.9714\n",
      "Epoch 10/20\n",
      "70/70 [==============================] - 0s 285us/sample - loss: 0.1550 - accuracy: 0.9571\n",
      "Epoch 11/20\n",
      "70/70 [==============================] - 0s 256us/sample - loss: 0.1290 - accuracy: 0.9714\n",
      "Epoch 12/20\n",
      "70/70 [==============================] - 0s 271us/sample - loss: 0.1265 - accuracy: 0.9571\n",
      "Epoch 13/20\n",
      "70/70 [==============================] - 0s 271us/sample - loss: 0.1214 - accuracy: 0.9714\n",
      "Epoch 14/20\n",
      "70/70 [==============================] - 0s 299us/sample - loss: 0.0975 - accuracy: 0.9857\n",
      "Epoch 15/20\n",
      "70/70 [==============================] - 0s 285us/sample - loss: 0.1064 - accuracy: 0.9714\n",
      "Epoch 16/20\n",
      "70/70 [==============================] - 0s 299us/sample - loss: 0.0907 - accuracy: 0.9857\n",
      "Epoch 17/20\n",
      "70/70 [==============================] - 0s 313us/sample - loss: 0.0817 - accuracy: 0.9714\n",
      "Epoch 18/20\n",
      "70/70 [==============================] - 0s 356us/sample - loss: 0.0938 - accuracy: 0.9714\n",
      "Epoch 19/20\n",
      "70/70 [==============================] - 0s 370us/sample - loss: 0.0790 - accuracy: 0.9714\n",
      "Epoch 20/20\n",
      "70/70 [==============================] - 0s 371us/sample - loss: 0.0598 - accuracy: 0.9857\n"
     ]
    },
    {
     "data": {
      "text/plain": [
       "<tensorflow.python.keras.callbacks.History at 0x201b6d8b688>"
      ]
     },
     "execution_count": 10,
     "metadata": {},
     "output_type": "execute_result"
    }
   ],
   "source": [
    "model.fit(x = x_train.to_numpy(),y = y_train.to_numpy(), batch_size = 10, epochs = 20)"
   ]
  },
  {
   "cell_type": "code",
   "execution_count": 11,
   "metadata": {},
   "outputs": [
    {
     "name": "stdout",
     "output_type": "stream",
     "text": [
      "\r",
      "30/1 [====================================================================================================================================================================================================================================================================================================================================================================================================================================================================================================================================================================================================================================================================================================================================================================================================================================================================================================================================] - 0s 3ms/sample - loss: 0.1238 - accuracy: 0.9333\n"
     ]
    }
   ],
   "source": [
    "loss, acc = model.evaluate(x_test.to_numpy(), y_test.to_numpy())"
   ]
  },
  {
   "cell_type": "code",
   "execution_count": null,
   "metadata": {},
   "outputs": [],
   "source": []
  }
 ],
 "metadata": {
  "kernelspec": {
   "display_name": "Python 3",
   "language": "python",
   "name": "python3"
  },
  "language_info": {
   "codemirror_mode": {
    "name": "ipython",
    "version": 3
   },
   "file_extension": ".py",
   "mimetype": "text/x-python",
   "name": "python",
   "nbconvert_exporter": "python",
   "pygments_lexer": "ipython3",
   "version": "3.7.4"
  }
 },
 "nbformat": 4,
 "nbformat_minor": 2
}
