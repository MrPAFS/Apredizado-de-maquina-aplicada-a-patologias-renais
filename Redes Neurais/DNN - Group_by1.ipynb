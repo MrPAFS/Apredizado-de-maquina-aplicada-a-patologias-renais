{
 "cells": [
  {
   "cell_type": "code",
   "execution_count": 1,
   "metadata": {},
   "outputs": [],
   "source": [
    "import pandas as pd\n",
    "import numpy as np\n",
    "import tensorflow as tf\n",
    "# from sklearn.model_selection import train_test_split\n",
    "from sklearn.metrics import classification_report\n",
    "from model_selection import train_test_split_per_class"
   ]
  },
  {
   "cell_type": "code",
   "execution_count": 2,
   "metadata": {},
   "outputs": [],
   "source": [
    "database = pd.read_csv('group_by1.csv')"
   ]
  },
  {
   "cell_type": "code",
   "execution_count": 3,
   "metadata": {},
   "outputs": [],
   "source": [
    "database.drop('Unnamed: 0', axis=1, inplace=True)"
   ]
  },
  {
   "cell_type": "code",
   "execution_count": 4,
   "metadata": {},
   "outputs": [],
   "source": [
    "x = database.drop('Diagnóstico', axis=1)\n",
    "y = database['Diagnóstico']"
   ]
  },
  {
   "cell_type": "code",
   "execution_count": 5,
   "metadata": {},
   "outputs": [],
   "source": [
    "x_train,x_test,y_train,y_test = train_test_split_per_class(x,y,test_size=0.3)"
   ]
  },
  {
   "cell_type": "code",
   "execution_count": 6,
   "metadata": {},
   "outputs": [],
   "source": [
    "n_inputs = x.shape[1]\n",
    "n_hidden1 = 200\n",
    "n_hidden2 = 100\n",
    "n_outputs = len(y.unique())"
   ]
  },
  {
   "cell_type": "code",
   "execution_count": 7,
   "metadata": {},
   "outputs": [],
   "source": [
    "model = tf.keras.Sequential([tf.keras.layers.Dense(n_hidden1,activation = 'relu'),\n",
    "                             tf.keras.layers.Dense(n_hidden2,activation = 'relu'),\n",
    "                             tf.keras.layers.Dense(n_outputs,activation = 'softmax')])"
   ]
  },
  {
   "cell_type": "code",
   "execution_count": 8,
   "metadata": {},
   "outputs": [],
   "source": [
    "model.compile(optimizer='adam',\n",
    "              loss='sparse_categorical_crossentropy',\n",
    "              metrics=['accuracy'])"
   ]
  },
  {
   "cell_type": "code",
   "execution_count": 9,
   "metadata": {},
   "outputs": [
    {
     "name": "stdout",
     "output_type": "stream",
     "text": [
      "Train on 70 samples\n",
      "Epoch 1/20\n",
      "70/70 [==============================] - 7s 104ms/sample - loss: 2.7434 - accuracy: 0.2429\n",
      "Epoch 2/20\n",
      "70/70 [==============================] - 0s 328us/sample - loss: 1.7845 - accuracy: 0.4571\n",
      "Epoch 3/20\n",
      "70/70 [==============================] - 0s 328us/sample - loss: 1.3393 - accuracy: 0.4857\n",
      "Epoch 4/20\n",
      "70/70 [==============================] - 0s 327us/sample - loss: 1.1442 - accuracy: 0.6000\n",
      "Epoch 5/20\n",
      "70/70 [==============================] - 0s 342us/sample - loss: 1.0023 - accuracy: 0.6429\n",
      "Epoch 6/20\n",
      "70/70 [==============================] - 0s 371us/sample - loss: 0.8947 - accuracy: 0.7000\n",
      "Epoch 7/20\n",
      "70/70 [==============================] - 0s 328us/sample - loss: 0.7763 - accuracy: 0.7286\n",
      "Epoch 8/20\n",
      "70/70 [==============================] - 0s 299us/sample - loss: 0.6965 - accuracy: 0.7857\n",
      "Epoch 9/20\n",
      "70/70 [==============================] - 0s 328us/sample - loss: 0.6171 - accuracy: 0.8714\n",
      "Epoch 10/20\n",
      "70/70 [==============================] - 0s 285us/sample - loss: 0.5711 - accuracy: 0.9000\n",
      "Epoch 11/20\n",
      "70/70 [==============================] - 0s 370us/sample - loss: 0.5097 - accuracy: 0.9143\n",
      "Epoch 12/20\n",
      "70/70 [==============================] - 0s 328us/sample - loss: 0.4629 - accuracy: 0.9000\n",
      "Epoch 13/20\n",
      "70/70 [==============================] - 0s 313us/sample - loss: 0.4007 - accuracy: 0.9429\n",
      "Epoch 14/20\n",
      "70/70 [==============================] - 0s 285us/sample - loss: 0.3780 - accuracy: 0.9571\n",
      "Epoch 15/20\n",
      "70/70 [==============================] - 0s 285us/sample - loss: 0.3445 - accuracy: 0.9571\n",
      "Epoch 16/20\n",
      "70/70 [==============================] - 0s 285us/sample - loss: 0.3409 - accuracy: 0.9286\n",
      "Epoch 17/20\n",
      "70/70 [==============================] - 0s 313us/sample - loss: 0.2946 - accuracy: 0.9571\n",
      "Epoch 18/20\n",
      "70/70 [==============================] - 0s 313us/sample - loss: 0.2638 - accuracy: 0.9714\n",
      "Epoch 19/20\n",
      "70/70 [==============================] - 0s 306us/sample - loss: 0.2527 - accuracy: 0.9571\n",
      "Epoch 20/20\n",
      "70/70 [==============================] - 0s 313us/sample - loss: 0.2243 - accuracy: 0.9714\n"
     ]
    },
    {
     "data": {
      "text/plain": [
       "<tensorflow.python.keras.callbacks.History at 0x295f4340448>"
      ]
     },
     "execution_count": 9,
     "metadata": {},
     "output_type": "execute_result"
    }
   ],
   "source": [
    "model.fit(x = x_train.to_numpy(),y = y_train.to_numpy(), batch_size = 10, epochs = 20)"
   ]
  },
  {
   "cell_type": "code",
   "execution_count": 10,
   "metadata": {},
   "outputs": [
    {
     "name": "stdout",
     "output_type": "stream",
     "text": [
      "\r",
      "31/1 [==================================================================================================================================================================================================================================================================================================================================================================================================================================================================================================================================================================================================================================================================================================================================================================================================================================================================================================================================================================] - 0s 3ms/sample - loss: 0.9793 - accuracy: 0.7097\n"
     ]
    }
   ],
   "source": [
    "loss, acc = model.evaluate(x_test.to_numpy(), y_test.to_numpy())"
   ]
  },
  {
   "cell_type": "code",
   "execution_count": 11,
   "metadata": {},
   "outputs": [],
   "source": [
    "y_pred = model.predict(x_test.to_numpy())"
   ]
  },
  {
   "cell_type": "code",
   "execution_count": 12,
   "metadata": {},
   "outputs": [],
   "source": [
    "y_pred_argmax = []\n",
    "for pred in y_pred:\n",
    "    y_pred_argmax.append(np.argmax(pred))"
   ]
  },
  {
   "cell_type": "code",
   "execution_count": 13,
   "metadata": {},
   "outputs": [
    {
     "name": "stdout",
     "output_type": "stream",
     "text": [
      "              precision    recall  f1-score   support\n",
      "\n",
      "           0       0.67      0.67      0.67         3\n",
      "           1       0.85      0.92      0.88        12\n",
      "           2       0.67      0.40      0.50         5\n",
      "           3       1.00      1.00      1.00         4\n",
      "           4       0.00      0.00      0.00         3\n",
      "           5       0.50      0.75      0.60         4\n",
      "\n",
      "    accuracy                           0.71        31\n",
      "   macro avg       0.61      0.62      0.61        31\n",
      "weighted avg       0.69      0.71      0.69        31\n",
      "\n"
     ]
    }
   ],
   "source": [
    "print(classification_report(y_pred = y_pred_argmax, y_true = y_test))"
   ]
  },
  {
   "cell_type": "code",
   "execution_count": null,
   "metadata": {},
   "outputs": [],
   "source": []
  }
 ],
 "metadata": {
  "kernelspec": {
   "display_name": "Python 3",
   "language": "python",
   "name": "python3"
  },
  "language_info": {
   "codemirror_mode": {
    "name": "ipython",
    "version": 3
   },
   "file_extension": ".py",
   "mimetype": "text/x-python",
   "name": "python",
   "nbconvert_exporter": "python",
   "pygments_lexer": "ipython3",
   "version": "3.7.4"
  }
 },
 "nbformat": 4,
 "nbformat_minor": 2
}
