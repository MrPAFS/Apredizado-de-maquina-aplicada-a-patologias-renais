{
 "cells": [
  {
   "cell_type": "code",
   "execution_count": 1,
   "metadata": {},
   "outputs": [],
   "source": [
    "import pandas as pd\n",
    "import numpy as np\n",
    "import tensorflow as tf\n",
    "# from sklearn.model_selection import train_test_split\n",
    "from sklearn.metrics import classification_report\n",
    "from model_selection import train_test_split_per_class"
   ]
  },
  {
   "cell_type": "code",
   "execution_count": 2,
   "metadata": {},
   "outputs": [],
   "source": [
    "database = pd.read_csv('group_by4_GLCM.csv')"
   ]
  },
  {
   "cell_type": "code",
   "execution_count": 3,
   "metadata": {},
   "outputs": [],
   "source": [
    "database.drop('Unnamed: 0', axis=1, inplace=True)"
   ]
  },
  {
   "cell_type": "code",
   "execution_count": 4,
   "metadata": {},
   "outputs": [],
   "source": [
    "x = database.drop('Diagnóstico', axis=1)\n",
    "y = database['Diagnóstico']"
   ]
  },
  {
   "cell_type": "code",
   "execution_count": 5,
   "metadata": {},
   "outputs": [],
   "source": [
    "x_train,x_test,y_train,y_test = train_test_split_per_class(x,y,test_size=0.2)"
   ]
  },
  {
   "cell_type": "code",
   "execution_count": 6,
   "metadata": {},
   "outputs": [],
   "source": [
    "n_inputs = x.shape[1]\n",
    "n_hidden1 = 200\n",
    "n_hidden2 = 100\n",
    "n_outputs = len(y.unique())"
   ]
  },
  {
   "cell_type": "code",
   "execution_count": 7,
   "metadata": {},
   "outputs": [],
   "source": [
    "model = tf.keras.Sequential([tf.keras.layers.Dense(n_hidden1,activation = 'relu'),\n",
    "                             tf.keras.layers.Dense(n_hidden2,activation = 'relu'),\n",
    "                             tf.keras.layers.Dense(n_outputs,activation = 'softmax')])"
   ]
  },
  {
   "cell_type": "code",
   "execution_count": 8,
   "metadata": {},
   "outputs": [],
   "source": [
    "model.compile(optimizer='adam',\n",
    "              loss='sparse_categorical_crossentropy',\n",
    "              metrics=['accuracy'])"
   ]
  },
  {
   "cell_type": "code",
   "execution_count": 9,
   "metadata": {},
   "outputs": [
    {
     "name": "stdout",
     "output_type": "stream",
     "text": [
      "Train on 54 samples\n",
      "Epoch 1/20\n",
      "54/54 [==============================] - 1s 17ms/sample - loss: 7.3186 - accuracy: 0.0926\n",
      "Epoch 2/20\n",
      "54/54 [==============================] - 0s 553us/sample - loss: 6.4465 - accuracy: 0.1296\n",
      "Epoch 3/20\n",
      "54/54 [==============================] - 0s 563us/sample - loss: 2.8818 - accuracy: 0.2593\n",
      "Epoch 4/20\n",
      "54/54 [==============================] - 0s 573us/sample - loss: 2.3249 - accuracy: 0.2778\n",
      "Epoch 5/20\n",
      "54/54 [==============================] - 0s 609us/sample - loss: 2.1804 - accuracy: 0.4259\n",
      "Epoch 6/20\n",
      "54/54 [==============================] - 0s 480us/sample - loss: 1.8257 - accuracy: 0.4074\n",
      "Epoch 7/20\n",
      "54/54 [==============================] - 0s 480us/sample - loss: 1.3834 - accuracy: 0.5185\n",
      "Epoch 8/20\n",
      "54/54 [==============================] - 0s 443us/sample - loss: 1.3540 - accuracy: 0.6111\n",
      "Epoch 9/20\n",
      "54/54 [==============================] - 0s 499us/sample - loss: 1.1012 - accuracy: 0.5556\n",
      "Epoch 10/20\n",
      "54/54 [==============================] - 0s 536us/sample - loss: 1.0793 - accuracy: 0.5556\n",
      "Epoch 11/20\n",
      "54/54 [==============================] - 0s 443us/sample - loss: 0.9903 - accuracy: 0.6111\n",
      "Epoch 12/20\n",
      "54/54 [==============================] - 0s 480us/sample - loss: 1.0704 - accuracy: 0.7037\n",
      "Epoch 13/20\n",
      "54/54 [==============================] - 0s 609us/sample - loss: 1.2711 - accuracy: 0.7222\n",
      "Epoch 14/20\n",
      "54/54 [==============================] - 0s 627us/sample - loss: 0.9256 - accuracy: 0.6481\n",
      "Epoch 15/20\n",
      "54/54 [==============================] - 0s 573us/sample - loss: 0.6674 - accuracy: 0.8333\n",
      "Epoch 16/20\n",
      "54/54 [==============================] - 0s 517us/sample - loss: 0.6391 - accuracy: 0.8519\n",
      "Epoch 17/20\n",
      "54/54 [==============================] - 0s 573us/sample - loss: 0.7018 - accuracy: 0.7593\n",
      "Epoch 18/20\n",
      "54/54 [==============================] - 0s 554us/sample - loss: 0.7469 - accuracy: 0.7593\n",
      "Epoch 19/20\n",
      "54/54 [==============================] - 0s 602us/sample - loss: 1.0119 - accuracy: 0.7037\n",
      "Epoch 20/20\n",
      "54/54 [==============================] - 0s 443us/sample - loss: 0.7730 - accuracy: 0.7407\n"
     ]
    },
    {
     "data": {
      "text/plain": [
       "<tensorflow.python.keras.callbacks.History at 0x20cf3ee7488>"
      ]
     },
     "execution_count": 9,
     "metadata": {},
     "output_type": "execute_result"
    }
   ],
   "source": [
    "model.fit(x = x_train.to_numpy(),y = y_train.to_numpy(), batch_size = 10, epochs = 20)"
   ]
  },
  {
   "cell_type": "code",
   "execution_count": 10,
   "metadata": {},
   "outputs": [
    {
     "name": "stdout",
     "output_type": "stream",
     "text": [
      "\r",
      "17/1 [==============================================================================================================================================================================================================================================================================================================================================================================================================================================================================================================================] - 0s 5ms/sample - loss: 3.3791 - accuracy: 0.4118\n"
     ]
    }
   ],
   "source": [
    "loss, acc = model.evaluate(x_test.to_numpy(), y_test.to_numpy())"
   ]
  },
  {
   "cell_type": "code",
   "execution_count": 11,
   "metadata": {},
   "outputs": [],
   "source": [
    "y_pred = model.predict(x_test.to_numpy())"
   ]
  },
  {
   "cell_type": "code",
   "execution_count": 12,
   "metadata": {},
   "outputs": [],
   "source": [
    "y_pred_argmax = []\n",
    "for pred in y_pred:\n",
    "    y_pred_argmax.append(np.argmax(pred))"
   ]
  },
  {
   "cell_type": "code",
   "execution_count": 13,
   "metadata": {},
   "outputs": [
    {
     "name": "stdout",
     "output_type": "stream",
     "text": [
      "              precision    recall  f1-score   support\n",
      "\n",
      "           0       1.00      0.50      0.67         2\n",
      "           1       0.33      0.33      0.33         3\n",
      "           2       0.22      0.67      0.33         3\n",
      "           3       1.00      1.00      1.00         2\n",
      "           4       0.50      0.25      0.33         4\n",
      "           5       0.00      0.00      0.00         3\n",
      "\n",
      "    accuracy                           0.41        17\n",
      "   macro avg       0.51      0.46      0.44        17\n",
      "weighted avg       0.45      0.41      0.39        17\n",
      "\n"
     ]
    },
    {
     "name": "stderr",
     "output_type": "stream",
     "text": [
      "C:\\Users\\panto\\AppData\\Local\\Continuum\\anaconda3\\lib\\site-packages\\sklearn\\metrics\\classification.py:1437: UndefinedMetricWarning: Precision and F-score are ill-defined and being set to 0.0 in labels with no predicted samples.\n",
      "  'precision', 'predicted', average, warn_for)\n"
     ]
    }
   ],
   "source": [
    "print(classification_report(y_pred = y_pred_argmax, y_true = y_test))"
   ]
  },
  {
   "cell_type": "code",
   "execution_count": null,
   "metadata": {},
   "outputs": [],
   "source": []
  }
 ],
 "metadata": {
  "kernelspec": {
   "display_name": "Python 3",
   "language": "python",
   "name": "python3"
  },
  "language_info": {
   "codemirror_mode": {
    "name": "ipython",
    "version": 3
   },
   "file_extension": ".py",
   "mimetype": "text/x-python",
   "name": "python",
   "nbconvert_exporter": "python",
   "pygments_lexer": "ipython3",
   "version": "3.7.4"
  }
 },
 "nbformat": 4,
 "nbformat_minor": 2
}
