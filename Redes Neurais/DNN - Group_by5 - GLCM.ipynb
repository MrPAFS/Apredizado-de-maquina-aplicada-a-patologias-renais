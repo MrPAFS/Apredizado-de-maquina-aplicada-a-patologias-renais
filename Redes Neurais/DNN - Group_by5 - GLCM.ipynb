{
 "cells": [
  {
   "cell_type": "code",
   "execution_count": 1,
   "metadata": {},
   "outputs": [],
   "source": [
    "import pandas as pd\n",
    "import numpy as np\n",
    "import tensorflow as tf\n",
    "# from sklearn.model_selection import train_test_split\n",
    "from sklearn.metrics import classification_report\n",
    "from model_selection import train_test_split_per_class"
   ]
  },
  {
   "cell_type": "code",
   "execution_count": 2,
   "metadata": {},
   "outputs": [],
   "source": [
    "database = pd.read_csv('group_by5_GLCM.csv')"
   ]
  },
  {
   "cell_type": "code",
   "execution_count": 3,
   "metadata": {},
   "outputs": [],
   "source": [
    "database.drop('Unnamed: 0', axis=1, inplace=True)"
   ]
  },
  {
   "cell_type": "code",
   "execution_count": 4,
   "metadata": {},
   "outputs": [],
   "source": [
    "x = database.drop('Diagnóstico', axis=1)\n",
    "y = database['Diagnóstico']"
   ]
  },
  {
   "cell_type": "code",
   "execution_count": 5,
   "metadata": {},
   "outputs": [],
   "source": [
    "x_train,x_test,y_train,y_test = train_test_split_per_class(x,y,test_size=0.2)"
   ]
  },
  {
   "cell_type": "code",
   "execution_count": 6,
   "metadata": {},
   "outputs": [],
   "source": [
    "n_inputs = x.shape[1]\n",
    "n_hidden1 = 200\n",
    "n_hidden2 = 100\n",
    "n_outputs = len(y.unique())"
   ]
  },
  {
   "cell_type": "code",
   "execution_count": 7,
   "metadata": {},
   "outputs": [],
   "source": [
    "model = tf.keras.Sequential([tf.keras.layers.Dense(n_hidden1,activation = 'relu'),\n",
    "                             tf.keras.layers.Dense(n_hidden2,activation = 'relu'),\n",
    "                             tf.keras.layers.Dense(n_outputs,activation = 'softmax')])"
   ]
  },
  {
   "cell_type": "code",
   "execution_count": 8,
   "metadata": {},
   "outputs": [],
   "source": [
    "model.compile(optimizer='adam',\n",
    "              loss='sparse_categorical_crossentropy',\n",
    "              metrics=['accuracy'])"
   ]
  },
  {
   "cell_type": "code",
   "execution_count": 9,
   "metadata": {},
   "outputs": [
    {
     "name": "stdout",
     "output_type": "stream",
     "text": [
      "Train on 55 samples\n",
      "Epoch 1/20\n",
      "55/55 [==============================] - 1s 19ms/sample - loss: 6.1423 - accuracy: 0.2000\n",
      "Epoch 2/20\n",
      "55/55 [==============================] - 0s 508us/sample - loss: 2.6187 - accuracy: 0.4000\n",
      "Epoch 3/20\n",
      "55/55 [==============================] - 0s 515us/sample - loss: 4.1150 - accuracy: 0.3273\n",
      "Epoch 4/20\n",
      "55/55 [==============================] - 0s 454us/sample - loss: 5.6267 - accuracy: 0.3091\n",
      "Epoch 5/20\n",
      "55/55 [==============================] - 0s 453us/sample - loss: 3.5431 - accuracy: 0.3636\n",
      "Epoch 6/20\n",
      "55/55 [==============================] - 0s 471us/sample - loss: 1.7843 - accuracy: 0.4545\n",
      "Epoch 7/20\n",
      "55/55 [==============================] - 0s 617us/sample - loss: 2.5250 - accuracy: 0.5636\n",
      "Epoch 8/20\n",
      "55/55 [==============================] - 0s 417us/sample - loss: 3.0950 - accuracy: 0.4909\n",
      "Epoch 9/20\n",
      "55/55 [==============================] - 0s 598us/sample - loss: 3.4242 - accuracy: 0.5455\n",
      "Epoch 10/20\n",
      "55/55 [==============================] - 0s 481us/sample - loss: 3.0485 - accuracy: 0.5091\n",
      "Epoch 11/20\n",
      "55/55 [==============================] - 0s 508us/sample - loss: 2.5678 - accuracy: 0.6909\n",
      "Epoch 12/20\n",
      "55/55 [==============================] - 0s 508us/sample - loss: 2.2952 - accuracy: 0.6000\n",
      "Epoch 13/20\n",
      "55/55 [==============================] - 0s 562us/sample - loss: 1.2819 - accuracy: 0.6727\n",
      "Epoch 14/20\n",
      "55/55 [==============================] - 0s 653us/sample - loss: 0.8870 - accuracy: 0.7818\n",
      "Epoch 15/20\n",
      "55/55 [==============================] - 0s 399us/sample - loss: 0.7112 - accuracy: 0.7636\n",
      "Epoch 16/20\n",
      "55/55 [==============================] - 0s 526us/sample - loss: 0.5240 - accuracy: 0.8182\n",
      "Epoch 17/20\n",
      "55/55 [==============================] - 0s 453us/sample - loss: 0.4241 - accuracy: 0.8909\n",
      "Epoch 18/20\n",
      "55/55 [==============================] - 0s 580us/sample - loss: 0.4789 - accuracy: 0.8182\n",
      "Epoch 19/20\n",
      "55/55 [==============================] - ETA: 0s - loss: 0.2924 - accuracy: 0.90 - 0s 544us/sample - loss: 0.4350 - accuracy: 0.8545\n",
      "Epoch 20/20\n",
      "55/55 [==============================] - 0s 598us/sample - loss: 0.3841 - accuracy: 0.9273\n"
     ]
    },
    {
     "data": {
      "text/plain": [
       "<tensorflow.python.keras.callbacks.History at 0x21ee0367388>"
      ]
     },
     "execution_count": 9,
     "metadata": {},
     "output_type": "execute_result"
    }
   ],
   "source": [
    "model.fit(x = x_train.to_numpy(),y = y_train.to_numpy(), batch_size = 10, epochs = 20)"
   ]
  },
  {
   "cell_type": "code",
   "execution_count": 10,
   "metadata": {},
   "outputs": [
    {
     "name": "stdout",
     "output_type": "stream",
     "text": [
      "\r",
      "17/1 [==============================================================================================================================================================================================================================================================================================================================================================================================================================================================================================================================] - 0s 5ms/sample - loss: 4.2684 - accuracy: 0.2353\n"
     ]
    }
   ],
   "source": [
    "loss, acc = model.evaluate(x_test.to_numpy(), y_test.to_numpy())"
   ]
  },
  {
   "cell_type": "code",
   "execution_count": 11,
   "metadata": {},
   "outputs": [],
   "source": [
    "y_pred = model.predict(x_test.to_numpy())"
   ]
  },
  {
   "cell_type": "code",
   "execution_count": 12,
   "metadata": {},
   "outputs": [],
   "source": [
    "y_pred_argmax = []\n",
    "for pred in y_pred:\n",
    "    y_pred_argmax.append(np.argmax(pred))"
   ]
  },
  {
   "cell_type": "code",
   "execution_count": 13,
   "metadata": {},
   "outputs": [
    {
     "name": "stdout",
     "output_type": "stream",
     "text": [
      "              precision    recall  f1-score   support\n",
      "\n",
      "           0       0.14      0.33      0.20         3\n",
      "           1       0.40      0.67      0.50         3\n",
      "           2       0.50      0.50      0.50         2\n",
      "           3       0.00      0.00      0.00         4\n",
      "           4       0.00      0.00      0.00         1\n",
      "           5       0.00      0.00      0.00         4\n",
      "\n",
      "    accuracy                           0.24        17\n",
      "   macro avg       0.17      0.25      0.20        17\n",
      "weighted avg       0.15      0.24      0.18        17\n",
      "\n"
     ]
    }
   ],
   "source": [
    "print(classification_report(y_pred = y_pred_argmax, y_true = y_test))"
   ]
  },
  {
   "cell_type": "code",
   "execution_count": null,
   "metadata": {},
   "outputs": [],
   "source": []
  }
 ],
 "metadata": {
  "kernelspec": {
   "display_name": "Python 3",
   "language": "python",
   "name": "python3"
  },
  "language_info": {
   "codemirror_mode": {
    "name": "ipython",
    "version": 3
   },
   "file_extension": ".py",
   "mimetype": "text/x-python",
   "name": "python",
   "nbconvert_exporter": "python",
   "pygments_lexer": "ipython3",
   "version": "3.7.4"
  }
 },
 "nbformat": 4,
 "nbformat_minor": 2
}
