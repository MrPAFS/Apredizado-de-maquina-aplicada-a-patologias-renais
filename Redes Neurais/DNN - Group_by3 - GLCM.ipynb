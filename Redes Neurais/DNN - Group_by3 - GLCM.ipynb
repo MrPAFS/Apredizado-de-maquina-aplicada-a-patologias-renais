{
 "cells": [
  {
   "cell_type": "code",
   "execution_count": 1,
   "metadata": {},
   "outputs": [],
   "source": [
    "import pandas as pd\n",
    "import numpy as np\n",
    "import tensorflow as tf\n",
    "# from sklearn.model_selection import train_test_split\n",
    "from sklearn.metrics import classification_report\n",
    "from model_selection import train_test_split_per_class"
   ]
  },
  {
   "cell_type": "code",
   "execution_count": 2,
   "metadata": {},
   "outputs": [],
   "source": [
    "database = pd.read_csv('group_by3_GLCM.csv')"
   ]
  },
  {
   "cell_type": "code",
   "execution_count": 3,
   "metadata": {},
   "outputs": [],
   "source": [
    "database.drop('Unnamed: 0', axis=1, inplace=True)"
   ]
  },
  {
   "cell_type": "code",
   "execution_count": 4,
   "metadata": {},
   "outputs": [],
   "source": [
    "x = database.drop('Diagnóstico', axis=1)\n",
    "y = database['Diagnóstico']"
   ]
  },
  {
   "cell_type": "code",
   "execution_count": 5,
   "metadata": {},
   "outputs": [],
   "source": [
    "x_train,x_test,y_train,y_test = train_test_split_per_class(x,y,test_size=0.2)"
   ]
  },
  {
   "cell_type": "code",
   "execution_count": 6,
   "metadata": {},
   "outputs": [],
   "source": [
    "n_inputs = x.shape[1]\n",
    "n_hidden1 = 200\n",
    "n_hidden2 = 100\n",
    "n_outputs = len(y.unique())"
   ]
  },
  {
   "cell_type": "code",
   "execution_count": 7,
   "metadata": {},
   "outputs": [],
   "source": [
    "model = tf.keras.Sequential([tf.keras.layers.Dense(n_hidden1,activation = 'relu'),\n",
    "                             tf.keras.layers.Dense(n_hidden2,activation = 'relu'),\n",
    "                             tf.keras.layers.Dense(n_outputs,activation = 'softmax')])"
   ]
  },
  {
   "cell_type": "code",
   "execution_count": 8,
   "metadata": {},
   "outputs": [],
   "source": [
    "model.compile(optimizer='adam',\n",
    "              loss='sparse_categorical_crossentropy',\n",
    "              metrics=['accuracy'])"
   ]
  },
  {
   "cell_type": "code",
   "execution_count": 9,
   "metadata": {},
   "outputs": [
    {
     "name": "stdout",
     "output_type": "stream",
     "text": [
      "Train on 57 samples\n",
      "Epoch 1/20\n",
      "57/57 [==============================] - 1s 16ms/sample - loss: 14.7214 - accuracy: 0.1404\n",
      "Epoch 2/20\n",
      "57/57 [==============================] - 0s 577us/sample - loss: 6.5465 - accuracy: 0.2982\n",
      "Epoch 3/20\n",
      "57/57 [==============================] - 0s 560us/sample - loss: 3.1354 - accuracy: 0.4386\n",
      "Epoch 4/20\n",
      "57/57 [==============================] - 0s 490us/sample - loss: 2.6728 - accuracy: 0.2982\n",
      "Epoch 5/20\n",
      "57/57 [==============================] - 0s 455us/sample - loss: 2.1820 - accuracy: 0.3860\n",
      "Epoch 6/20\n",
      "57/57 [==============================] - 0s 402us/sample - loss: 1.6477 - accuracy: 0.5263\n",
      "Epoch 7/20\n",
      "57/57 [==============================] - 0s 490us/sample - loss: 1.4036 - accuracy: 0.5789\n",
      "Epoch 8/20\n",
      "57/57 [==============================] - 0s 542us/sample - loss: 1.0895 - accuracy: 0.5263\n",
      "Epoch 9/20\n",
      "57/57 [==============================] - 0s 490us/sample - loss: 1.2288 - accuracy: 0.5789\n",
      "Epoch 10/20\n",
      "57/57 [==============================] - 0s 490us/sample - loss: 0.9107 - accuracy: 0.6140\n",
      "Epoch 11/20\n",
      "57/57 [==============================] - 0s 437us/sample - loss: 1.1464 - accuracy: 0.7018\n",
      "Epoch 12/20\n",
      "57/57 [==============================] - 0s 472us/sample - loss: 1.3241 - accuracy: 0.6491\n",
      "Epoch 13/20\n",
      "57/57 [==============================] - 0s 543us/sample - loss: 1.6591 - accuracy: 0.5965\n",
      "Epoch 14/20\n",
      "57/57 [==============================] - 0s 595us/sample - loss: 1.4394 - accuracy: 0.6316\n",
      "Epoch 15/20\n",
      "57/57 [==============================] - 0s 595us/sample - loss: 2.4325 - accuracy: 0.6667\n",
      "Epoch 16/20\n",
      "57/57 [==============================] - 0s 420us/sample - loss: 1.1111 - accuracy: 0.7018\n",
      "Epoch 17/20\n",
      "57/57 [==============================] - 0s 525us/sample - loss: 0.9755 - accuracy: 0.6842\n",
      "Epoch 18/20\n",
      "57/57 [==============================] - 0s 586us/sample - loss: 1.1073 - accuracy: 0.7895\n",
      "Epoch 19/20\n",
      "57/57 [==============================] - 0s 647us/sample - loss: 1.0221 - accuracy: 0.7895\n",
      "Epoch 20/20\n",
      "57/57 [==============================] - 0s 577us/sample - loss: 0.6900 - accuracy: 0.7544\n"
     ]
    },
    {
     "data": {
      "text/plain": [
       "<tensorflow.python.keras.callbacks.History at 0x1cbf3b07148>"
      ]
     },
     "execution_count": 9,
     "metadata": {},
     "output_type": "execute_result"
    }
   ],
   "source": [
    "model.fit(x = x_train.to_numpy(),y = y_train.to_numpy(), batch_size = 10, epochs = 20)"
   ]
  },
  {
   "cell_type": "code",
   "execution_count": 10,
   "metadata": {},
   "outputs": [
    {
     "name": "stdout",
     "output_type": "stream",
     "text": [
      "\r",
      "16/1 [================================================================================================================================================================================================================================================================================================================================================================================================================================================================================================] - 0s 5ms/sample - loss: 1.3827 - accuracy: 0.5625\n"
     ]
    }
   ],
   "source": [
    "loss, acc = model.evaluate(x_test.to_numpy(), y_test.to_numpy())"
   ]
  },
  {
   "cell_type": "code",
   "execution_count": 11,
   "metadata": {},
   "outputs": [],
   "source": [
    "y_pred = model.predict(x_test.to_numpy())"
   ]
  },
  {
   "cell_type": "code",
   "execution_count": 12,
   "metadata": {},
   "outputs": [],
   "source": [
    "y_pred_argmax = []\n",
    "for pred in y_pred:\n",
    "    y_pred_argmax.append(np.argmax(pred))"
   ]
  },
  {
   "cell_type": "code",
   "execution_count": 13,
   "metadata": {},
   "outputs": [
    {
     "name": "stdout",
     "output_type": "stream",
     "text": [
      "              precision    recall  f1-score   support\n",
      "\n",
      "           0       0.50      0.33      0.40         3\n",
      "           1       0.00      0.00      0.00         3\n",
      "           2       0.50      0.50      0.50         2\n",
      "           3       0.80      1.00      0.89         4\n",
      "           4       0.60      0.75      0.67         4\n",
      "\n",
      "    accuracy                           0.56        16\n",
      "   macro avg       0.48      0.52      0.49        16\n",
      "weighted avg       0.51      0.56      0.53        16\n",
      "\n"
     ]
    }
   ],
   "source": [
    "print(classification_report(y_pred = y_pred_argmax, y_true = y_test))"
   ]
  },
  {
   "cell_type": "code",
   "execution_count": null,
   "metadata": {},
   "outputs": [],
   "source": []
  }
 ],
 "metadata": {
  "kernelspec": {
   "display_name": "Python 3",
   "language": "python",
   "name": "python3"
  },
  "language_info": {
   "codemirror_mode": {
    "name": "ipython",
    "version": 3
   },
   "file_extension": ".py",
   "mimetype": "text/x-python",
   "name": "python",
   "nbconvert_exporter": "python",
   "pygments_lexer": "ipython3",
   "version": "3.7.4"
  }
 },
 "nbformat": 4,
 "nbformat_minor": 2
}
