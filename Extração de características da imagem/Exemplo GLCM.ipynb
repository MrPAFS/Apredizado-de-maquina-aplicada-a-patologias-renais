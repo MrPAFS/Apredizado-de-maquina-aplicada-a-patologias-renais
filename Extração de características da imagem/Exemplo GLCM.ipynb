{
 "cells": [
  {
   "cell_type": "code",
   "execution_count": 1,
   "metadata": {},
   "outputs": [
    {
     "name": "stderr",
     "output_type": "stream",
     "text": [
      "C:\\Users\\panto\\AppData\\Local\\Continuum\\anaconda3\\lib\\site-packages\\skimage\\viewer\\utils\\core.py:10: UserWarning: Recommended matplotlib backend is `Agg` for full skimage.viewer functionality.\n",
      "  warn(\"Recommended matplotlib backend is `Agg` for full \"\n"
     ]
    }
   ],
   "source": [
    "import numpy as np\n",
    "import cv2 as cv\n",
    "from skimage.io import imread\n",
    "from skimage import feature\n",
    "from skimage.transform import integral_image\n",
    "from skimage.viewer import ImageViewer"
   ]
  },
  {
   "cell_type": "code",
   "execution_count": 2,
   "metadata": {},
   "outputs": [],
   "source": [
    "image = cv.imread('1.jpg', cv.IMREAD_GRAYSCALE)"
   ]
  },
  {
   "cell_type": "code",
   "execution_count": 3,
   "metadata": {},
   "outputs": [],
   "source": [
    "g = feature.greycomatrix(image, distances=[1, 2, 3, 4, 8, 16, 32], angles=[-np.pi/4, 0, np.pi/4, np.pi/2], levels=256, symmetric=True, normed=True)"
   ]
  },
  {
   "cell_type": "code",
   "execution_count": 4,
   "metadata": {},
   "outputs": [
    {
     "data": {
      "text/plain": [
       "array([[  10.80764142,    8.08697415,   13.0096116 ,    8.07265424],\n",
       "       [  10.80764142,   19.39982022,   13.0096116 ,   19.34078039],\n",
       "       [  29.52094953,   33.35280995,   31.02355405,   33.1807063 ],\n",
       "       [  52.82662018,   49.87661063,   56.26339145,   49.53400741],\n",
       "       [ 170.29125499,  160.41467724,  183.72692617,  158.54989898],\n",
       "       [ 478.02122448,  527.62438032,  520.45404124,  516.19542382],\n",
       "       [1397.94533949, 1460.97761066, 1540.89974522, 1413.94878494]])"
      ]
     },
     "execution_count": 4,
     "metadata": {},
     "output_type": "execute_result"
    }
   ],
   "source": [
    "feature.greycoprops(g, 'contrast')"
   ]
  },
  {
   "cell_type": "code",
   "execution_count": 5,
   "metadata": {},
   "outputs": [
    {
     "data": {
      "text/plain": [
       "array([[ 2.47300294,  2.12727299,  2.71663152,  2.12343891],\n",
       "       [ 2.47300294,  3.2718649 ,  2.71663152,  3.2654294 ],\n",
       "       [ 3.9486245 ,  4.16970916,  4.03974378,  4.15337148],\n",
       "       [ 5.08045861,  4.96075935,  5.23768625,  4.93353558],\n",
       "       [ 8.65099872,  8.44038301,  9.00819608,  8.35773707],\n",
       "       [14.38390694, 15.18746181, 15.08619485, 14.93585605],\n",
       "       [25.50059597, 26.21176079, 26.9765385 , 25.57667171]])"
      ]
     },
     "execution_count": 5,
     "metadata": {},
     "output_type": "execute_result"
    }
   ],
   "source": [
    "feature.greycoprops(g, 'dissimilarity')"
   ]
  },
  {
   "cell_type": "code",
   "execution_count": 6,
   "metadata": {},
   "outputs": [
    {
     "data": {
      "text/plain": [
       "array([[0.33591124, 0.37499247, 0.31408776, 0.37546492],\n",
       "       [0.33591124, 0.27821966, 0.31408776, 0.27863215],\n",
       "       [0.24634992, 0.23689361, 0.24245596, 0.23777095],\n",
       "       [0.21284659, 0.21637204, 0.20831639, 0.21748044],\n",
       "       [0.15867078, 0.16017437, 0.15347421, 0.16187396],\n",
       "       [0.11517703, 0.11054379, 0.11020682, 0.11281813],\n",
       "       [0.07598362, 0.07369711, 0.07154879, 0.07582791]])"
      ]
     },
     "execution_count": 6,
     "metadata": {},
     "output_type": "execute_result"
    }
   ],
   "source": [
    "feature.greycoprops(g, 'homogeneity')"
   ]
  },
  {
   "cell_type": "code",
   "execution_count": 7,
   "metadata": {},
   "outputs": [
    {
     "data": {
      "text/plain": [
       "array([[4.87596451e-04, 5.65077932e-04, 4.46031261e-04, 5.65910369e-04],\n",
       "       [4.87596451e-04, 3.79562358e-04, 4.46031261e-04, 3.80044847e-04],\n",
       "       [3.25872975e-04, 3.11644738e-04, 3.19444231e-04, 3.12603823e-04],\n",
       "       [2.71595475e-04, 2.76281724e-04, 2.64284676e-04, 2.77623090e-04],\n",
       "       [1.88041774e-04, 1.90237441e-04, 1.80579387e-04, 1.92310438e-04],\n",
       "       [1.28491811e-04, 1.22247823e-04, 1.21841898e-04, 1.24683834e-04],\n",
       "       [7.83702633e-05, 7.54974848e-05, 7.27554466e-05, 7.78174425e-05]])"
      ]
     },
     "execution_count": 7,
     "metadata": {},
     "output_type": "execute_result"
    }
   ],
   "source": [
    "feature.greycoprops(g, 'ASM')"
   ]
  },
  {
   "cell_type": "code",
   "execution_count": 8,
   "metadata": {},
   "outputs": [
    {
     "data": {
      "text/plain": [
       "array([[0.02208159, 0.02377137, 0.02111945, 0.02378887],\n",
       "       [0.02208159, 0.01948236, 0.02111945, 0.01949474],\n",
       "       [0.01805195, 0.01765346, 0.017873  , 0.01768061],\n",
       "       [0.01648015, 0.01662172, 0.01625683, 0.01666203],\n",
       "       [0.01371283, 0.01379266, 0.01343798, 0.0138676 ],\n",
       "       [0.01133542, 0.01105657, 0.0110382 , 0.01116619],\n",
       "       [0.0088527 , 0.00868893, 0.00852968, 0.00882142]])"
      ]
     },
     "execution_count": 8,
     "metadata": {},
     "output_type": "execute_result"
    }
   ],
   "source": [
    "feature.greycoprops(g, 'energy')"
   ]
  },
  {
   "cell_type": "code",
   "execution_count": 9,
   "metadata": {},
   "outputs": [
    {
     "data": {
      "text/plain": [
       "array([[0.99835536, 0.99876931, 0.99802028, 0.99877156],\n",
       "       [0.99835536, 0.99704768, 0.99802028, 0.997057  ],\n",
       "       [0.9955079 , 0.99492426, 0.99527925, 0.99495131],\n",
       "       [0.99196195, 0.99240959, 0.99143901, 0.99246344],\n",
       "       [0.97409246, 0.97558734, 0.97204837, 0.97588165],\n",
       "       [0.92729363, 0.91970553, 0.92083932, 0.92150774],\n",
       "       [0.78751383, 0.77771616, 0.76578037, 0.78515136]])"
      ]
     },
     "execution_count": 9,
     "metadata": {},
     "output_type": "execute_result"
    }
   ],
   "source": [
    "feature.greycoprops(g, 'correlation')"
   ]
  },
  {
   "cell_type": "code",
   "execution_count": 10,
   "metadata": {},
   "outputs": [
    {
     "data": {
      "text/plain": [
       "(3286, 4096)"
      ]
     },
     "execution_count": 10,
     "metadata": {},
     "output_type": "execute_result"
    }
   ],
   "source": [
    "image.shape"
   ]
  },
  {
   "cell_type": "code",
   "execution_count": null,
   "metadata": {},
   "outputs": [],
   "source": []
  }
 ],
 "metadata": {
  "kernelspec": {
   "display_name": "Python 3",
   "language": "python",
   "name": "python3"
  },
  "language_info": {
   "codemirror_mode": {
    "name": "ipython",
    "version": 3
   },
   "file_extension": ".py",
   "mimetype": "text/x-python",
   "name": "python",
   "nbconvert_exporter": "python",
   "pygments_lexer": "ipython3",
   "version": "3.7.4"
  }
 },
 "nbformat": 4,
 "nbformat_minor": 2
}
