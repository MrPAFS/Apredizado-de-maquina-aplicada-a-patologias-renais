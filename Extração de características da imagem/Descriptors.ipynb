{
 "cells": [
  {
   "cell_type": "code",
   "execution_count": 1,
   "metadata": {},
   "outputs": [],
   "source": [
    "import numpy as np\n",
    "import pandas as pd\n",
    "import tensorflow as tf\n",
    "import cv2 as cv\n",
    "from skimage import feature"
   ]
  },
  {
   "cell_type": "code",
   "execution_count": 2,
   "metadata": {},
   "outputs": [],
   "source": [
    "group_by1 = pd.read_csv('group_by1.csv')\n",
    "group_by2 = pd.read_csv('group_by2.csv')\n",
    "group_by3 = pd.read_csv('group_by3.csv')\n",
    "group_by4 = pd.read_csv('group_by4.csv')\n",
    "group_by5 = pd.read_csv('group_by5.csv')\n",
    "group_by6 = pd.read_csv('group_by6.csv')\n",
    "group_by_definitive = pd.read_csv('group_by_definitive.csv')"
   ]
  },
  {
   "cell_type": "code",
   "execution_count": 3,
   "metadata": {},
   "outputs": [],
   "source": [
    "group_by1.drop('Unnamed: 0', axis=1, inplace=True)\n",
    "group_by2.drop('Unnamed: 0', axis=1, inplace=True)\n",
    "group_by3.drop('Unnamed: 0', axis=1, inplace=True)\n",
    "group_by4.drop('Unnamed: 0', axis=1, inplace=True)\n",
    "group_by5.drop('Unnamed: 0', axis=1, inplace=True)\n",
    "group_by6.drop('Unnamed: 0', axis=1, inplace=True)\n",
    "group_by_definitive.drop('Unnamed: 0', axis=1, inplace=True)"
   ]
  },
  {
   "cell_type": "code",
   "execution_count": 4,
   "metadata": {},
   "outputs": [],
   "source": [
    "group_by1 = group_by1[1:72]\n",
    "group_by2 = group_by2[1:72]\n",
    "group_by3 = group_by3[1:72]\n",
    "group_by4 = group_by4[1:72]\n",
    "group_by5 = group_by5[1:72]\n",
    "group_by6 = group_by6[1:72]\n",
    "group_by_definitive = group_by_definitive[1:72]"
   ]
  },
  {
   "cell_type": "code",
   "execution_count": 5,
   "metadata": {},
   "outputs": [],
   "source": [
    "group_by1.reset_index(inplace=True, drop=True)\n",
    "group_by2.reset_index(inplace=True, drop=True)\n",
    "group_by3.reset_index(inplace=True, drop=True)\n",
    "group_by4.reset_index(inplace=True, drop=True)\n",
    "group_by5.reset_index(inplace=True, drop=True)\n",
    "group_by6.reset_index(inplace=True, drop=True)\n",
    "group_by_definitive.reset_index(inplace=True, drop=True)"
   ]
  },
  {
   "cell_type": "code",
   "execution_count": 6,
   "metadata": {},
   "outputs": [],
   "source": [
    "distances = [2,4,8,16]\n",
    "# angles = [-np.pi/4, 0, np.pi/4, np.pi/2]\n",
    "angles = [0, np.pi/2, np.pi, 2*np.pi]"
   ]
  },
  {
   "cell_type": "code",
   "execution_count": 7,
   "metadata": {},
   "outputs": [],
   "source": [
    "data = {}\n",
    "for d in distances:\n",
    "    for a in angles:\n",
    "        data['contrast_d' + str(d) + \"_a\" + str(a)] = []\n",
    "        data['dissimilarity_d' + str(d) + \"_a\" + str(a)] = []\n",
    "        data['homogeneity_d' + str(d) + \"_a\" + str(a)] = []\n",
    "        data['ASM_d' + str(d) + \"_a\" + str(a)] = []\n",
    "        data['energy_d' + str(d) + \"_a\" + str(a)] = []\n",
    "        data['correlation_d' + str(d) + \"_a\" + str(a)] = []"
   ]
  },
  {
   "cell_type": "code",
   "execution_count": 8,
   "metadata": {},
   "outputs": [],
   "source": [
    "for i in range(1,72):\n",
    "    image = cv.imread(str(i)+\".jpg\", cv.IMREAD_GRAYSCALE)\n",
    "    g = feature.greycomatrix(image, distances=distances, angles=angles, levels=256, symmetric=True, normed=True)\n",
    "    \n",
    "    for i in range(len(distances)):\n",
    "        for j in range(len(angles)):\n",
    "            data['contrast_d' + str(distances[i]) + \"_a\" + str(angles[j])].append(feature.greycoprops(g, 'contrast')[i][j])\n",
    "            data['dissimilarity_d' + str(distances[i]) + \"_a\" + str(angles[j])].append(feature.greycoprops(g, 'dissimilarity')[i][j])\n",
    "            data['homogeneity_d' + str(distances[i]) + \"_a\" + str(angles[j])].append(feature.greycoprops(g, 'homogeneity')[i][j])\n",
    "            data['ASM_d' + str(distances[i]) + \"_a\" + str(angles[j])].append(feature.greycoprops(g, 'ASM')[i][j])\n",
    "            data['energy_d' + str(distances[i]) + \"_a\" + str(angles[j])].append(feature.greycoprops(g, 'energy')[i][j])\n",
    "            data['correlation_d' + str(distances[i]) + \"_a\" + str(angles[j])].append(feature.greycoprops(g, 'correlation')[i][j])"
   ]
  },
  {
   "cell_type": "code",
   "execution_count": 9,
   "metadata": {},
   "outputs": [],
   "source": [
    "for desc in data:\n",
    "    group_by1[desc] = data[desc]\n",
    "    group_by2[desc] = data[desc]\n",
    "    group_by3[desc] = data[desc]\n",
    "    group_by4[desc] = data[desc]\n",
    "    group_by5[desc] = data[desc]\n",
    "    group_by6[desc] = data[desc]\n",
    "    group_by_definitive[desc] = data[desc]"
   ]
  },
  {
   "cell_type": "code",
   "execution_count": 10,
   "metadata": {},
   "outputs": [],
   "source": [
    "group_by1.to_csv('group_by1_GLCM.csv')\n",
    "group_by2.to_csv('group_by2_GLCM.csv')\n",
    "group_by3.to_csv('group_by3_GLCM.csv')\n",
    "group_by4.to_csv('group_by4_GLCM.csv')\n",
    "group_by5.to_csv('group_by5_GLCM.csv')\n",
    "group_by6.to_csv('group_by6_GLCM.csv')\n",
    "group_by_definitive.to_csv('group_by_definitive_GLCM.csv')"
   ]
  },
  {
   "cell_type": "code",
   "execution_count": null,
   "metadata": {},
   "outputs": [],
   "source": []
  }
 ],
 "metadata": {
  "kernelspec": {
   "display_name": "Python 3",
   "language": "python",
   "name": "python3"
  },
  "language_info": {
   "codemirror_mode": {
    "name": "ipython",
    "version": 3
   },
   "file_extension": ".py",
   "mimetype": "text/x-python",
   "name": "python",
   "nbconvert_exporter": "python",
   "pygments_lexer": "ipython3",
   "version": "3.7.6"
  }
 },
 "nbformat": 4,
 "nbformat_minor": 2
}
