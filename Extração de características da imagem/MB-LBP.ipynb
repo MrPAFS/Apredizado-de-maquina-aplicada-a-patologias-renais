{
 "cells": [
  {
   "cell_type": "code",
   "execution_count": 1,
   "metadata": {},
   "outputs": [],
   "source": [
    "import numpy as np\n",
    "import pandas as pd\n",
    "from skimage import feature\n",
    "from skimage.io import imread\n",
    "from skimage.io import imsave\n",
    "from skimage.transform import integral_image\n",
    "from sklearn.ensemble import RandomForestRegressor\n",
    "from sklearn.model_selection import GridSearchCV\n",
    "from sklaern.feature_selection import RFECV"
   ]
  },
  {
   "cell_type": "code",
   "execution_count": 2,
   "metadata": {},
   "outputs": [],
   "source": [
    "images = []\n",
    "for i in range(1,72):\n",
    "    img_name = str(i) + '.jpg'\n",
    "    img = imread(img_name, as_gray = True)\n",
    "    images.append(img)"
   ]
  },
  {
   "cell_type": "code",
   "execution_count": 3,
   "metadata": {},
   "outputs": [],
   "source": [
    "lbp_code_1to71 = np.zeros((100), np.float64)\n",
    "\n",
    "for i in range(100):\n",
    "    if i < 71:\n",
    "        int_img = integral_image(images[i])\n",
    "        lbp_code = feature.multiblock_lbp(int_img, 0, 0, 3, 3)\n",
    "        lbp_code_1to71[i] = lbp_code\n",
    "    else:\n",
    "        lbp_code_1to71[i] = np.nan"
   ]
  },
  {
   "cell_type": "code",
   "execution_count": 4,
   "metadata": {},
   "outputs": [
    {
     "data": {
      "text/plain": [
       "array([ 30.,  55., 248.,  12., 255., 241., 255.,  41.,   3.,   8.,  96.,\n",
       "       223., 143., 248., 255.,  52.,  80., 120.,  12., 167., 224., 199.,\n",
       "       225., 193., 207., 124., 143.,  60., 255.,  15., 124.,   0.,  16.,\n",
       "         8., 131.,   0.,   0., 216.,  31., 120.,  64., 112., 192., 193.,\n",
       "       120., 227., 124., 248., 192., 242., 240., 253.,  31., 168., 248.,\n",
       "       151.,   8., 193.,  34.,  30., 254.,   0., 143.,  32., 225.,  16.,\n",
       "       250.,  96.,  62.,  19., 241.,  nan,  nan,  nan,  nan,  nan,  nan,\n",
       "        nan,  nan,  nan,  nan,  nan,  nan,  nan,  nan,  nan,  nan,  nan,\n",
       "        nan,  nan,  nan,  nan,  nan,  nan,  nan,  nan,  nan,  nan,  nan,\n",
       "        nan])"
      ]
     },
     "execution_count": 4,
     "metadata": {},
     "output_type": "execute_result"
    }
   ],
   "source": [
    "lbp_code_1to71"
   ]
  },
  {
   "cell_type": "code",
   "execution_count": 5,
   "metadata": {},
   "outputs": [],
   "source": [
    "base = pd.read_csv('base_transformada_total.csv')"
   ]
  },
  {
   "cell_type": "code",
   "execution_count": 6,
   "metadata": {},
   "outputs": [],
   "source": [
    "base.drop('Unnamed: 0',inplace = True, axis = 1)"
   ]
  },
  {
   "cell_type": "code",
   "execution_count": 7,
   "metadata": {},
   "outputs": [],
   "source": [
    "base['MB-LBP'] = lbp_code_1to71"
   ]
  },
  {
   "cell_type": "code",
   "execution_count": 8,
   "metadata": {},
   "outputs": [],
   "source": [
    "base_train = base.dropna()\n",
    "base_toPredict = base[base['MB-LBP'].isnull()].drop('MB-LBP', axis = 1)"
   ]
  },
  {
   "cell_type": "code",
   "execution_count": 9,
   "metadata": {},
   "outputs": [
    {
     "name": "stdout",
     "output_type": "stream",
     "text": [
      "(71, 32)\n",
      "(29, 31)\n"
     ]
    }
   ],
   "source": [
    "print(base_train.shape)\n",
    "print(base_toPredict.shape)"
   ]
  },
  {
   "cell_type": "code",
   "execution_count": 11,
   "metadata": {},
   "outputs": [],
   "source": [
    "randomForest = RandomForestRegressor(n_estimators=100)"
   ]
  },
  {
   "cell_type": "code",
   "execution_count": 12,
   "metadata": {},
   "outputs": [
    {
     "data": {
      "text/plain": [
       "RandomForestRegressor(bootstrap=True, criterion='mse', max_depth=None,\n",
       "                      max_features='auto', max_leaf_nodes=None,\n",
       "                      min_impurity_decrease=0.0, min_impurity_split=None,\n",
       "                      min_samples_leaf=1, min_samples_split=2,\n",
       "                      min_weight_fraction_leaf=0.0, n_estimators=100,\n",
       "                      n_jobs=None, oob_score=False, random_state=None,\n",
       "                      verbose=0, warm_start=False)"
      ]
     },
     "execution_count": 12,
     "metadata": {},
     "output_type": "execute_result"
    }
   ],
   "source": [
    "randomForest.fit(X = base_train.drop('MB-LBP',axis=1), y = base_train['MB-LBP'])"
   ]
  },
  {
   "cell_type": "code",
   "execution_count": 13,
   "metadata": {},
   "outputs": [],
   "source": [
    "y_pred = randomForest.predict(base_toPredict)"
   ]
  },
  {
   "cell_type": "code",
   "execution_count": 17,
   "metadata": {},
   "outputs": [],
   "source": [
    "base['MB-LBP'].fillna(value = pd.Series(data = y_pred, index = base_toPredict.index), inplace = True)"
   ]
  },
  {
   "cell_type": "code",
   "execution_count": 18,
   "metadata": {},
   "outputs": [
    {
     "data": {
      "text/plain": [
       "Matriz mesangial                   0\n",
       "Celularidade mesangial             0\n",
       "Membrana basal glomerular          0\n",
       "Espaço de Bowman                   0\n",
       "Tufo glomerular                    0\n",
       "Podócito                           0\n",
       "Necrose tubular aguda              0\n",
       "Vacuolização do epitélio           0\n",
       "Cristais                           0\n",
       "Calcificação                       0\n",
       "Tubulite                           0\n",
       "Cilindros                          0\n",
       "Atrofia tubular                    0\n",
       "Graduação de atrofia               0\n",
       "Fibrose intersitical               0\n",
       "Graduação da fibrose               0\n",
       "Infiltrado inflamatório            0\n",
       "tipo de infiltrado inflamatório    0\n",
       "Vasculite                          0\n",
       "Microangiopatia trombótica         0\n",
       "Trombos                            0\n",
       "Hialinose                          0\n",
       "Necrose Fibrinóide                 0\n",
       "IMUNOFLUORESCÊNCIA                 0\n",
       "padrão de deposição                0\n",
       "Imunodepósitos                     0\n",
       "Imunohistoquímica                  0\n",
       "Microscopia eletrônica             0\n",
       "vermelho congo                     0\n",
       "Clínica                            0\n",
       "Diagnóstico                        0\n",
       "MB-LBP                             0\n",
       "dtype: int64"
      ]
     },
     "execution_count": 18,
     "metadata": {},
     "output_type": "execute_result"
    }
   ],
   "source": [
    "base.isnull().sum()"
   ]
  },
  {
   "cell_type": "code",
   "execution_count": null,
   "metadata": {},
   "outputs": [],
   "source": [
    "base.to_csv('base_MB-LBP.csv')"
   ]
  }
 ],
 "metadata": {
  "kernelspec": {
   "display_name": "Python 3",
   "language": "python",
   "name": "python3"
  },
  "language_info": {
   "codemirror_mode": {
    "name": "ipython",
    "version": 3
   },
   "file_extension": ".py",
   "mimetype": "text/x-python",
   "name": "python",
   "nbconvert_exporter": "python",
   "pygments_lexer": "ipython3",
   "version": "3.7.4"
  }
 },
 "nbformat": 4,
 "nbformat_minor": 2
}
