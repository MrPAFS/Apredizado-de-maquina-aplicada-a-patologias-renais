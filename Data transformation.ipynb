{
 "cells": [
  {
   "cell_type": "code",
   "execution_count": 1,
   "metadata": {},
   "outputs": [],
   "source": [
    "import pandas as pd\n",
    "import numpy as np"
   ]
  },
  {
   "cell_type": "code",
   "execution_count": 2,
   "metadata": {},
   "outputs": [],
   "source": [
    "database = pd.read_csv('base-100-limpa+.csv')"
   ]
  },
  {
   "cell_type": "code",
   "execution_count": 3,
   "metadata": {},
   "outputs": [
    {
     "data": {
      "text/html": [
       "<div>\n",
       "<style scoped>\n",
       "    .dataframe tbody tr th:only-of-type {\n",
       "        vertical-align: middle;\n",
       "    }\n",
       "\n",
       "    .dataframe tbody tr th {\n",
       "        vertical-align: top;\n",
       "    }\n",
       "\n",
       "    .dataframe thead th {\n",
       "        text-align: right;\n",
       "    }\n",
       "</style>\n",
       "<table border=\"1\" class=\"dataframe\">\n",
       "  <thead>\n",
       "    <tr style=\"text-align: right;\">\n",
       "      <th></th>\n",
       "      <th>Unnamed: 0</th>\n",
       "      <th>Matriz mesangial</th>\n",
       "      <th>Celularidade mesangial</th>\n",
       "      <th>Membrana basal glomerular</th>\n",
       "      <th>Espaço de Bowman</th>\n",
       "      <th>Tufo glomerular</th>\n",
       "      <th>Podócito</th>\n",
       "      <th>Necrose tubular aguda</th>\n",
       "      <th>Vacuolização do epitélio</th>\n",
       "      <th>Cristais</th>\n",
       "      <th>...</th>\n",
       "      <th>Hialinose</th>\n",
       "      <th>Necrose Fibrinóide</th>\n",
       "      <th>IMUNOFLUORESCÊNCIA</th>\n",
       "      <th>padrão de deposição</th>\n",
       "      <th>Imunodepósitos</th>\n",
       "      <th>Imunohistoquímica</th>\n",
       "      <th>Microscopia eletrônica</th>\n",
       "      <th>vermelho congo</th>\n",
       "      <th>Clínica</th>\n",
       "      <th>Diagnóstico</th>\n",
       "    </tr>\n",
       "  </thead>\n",
       "  <tbody>\n",
       "    <tr>\n",
       "      <th>0</th>\n",
       "      <td>0</td>\n",
       "      <td>normal</td>\n",
       "      <td>normal</td>\n",
       "      <td>normal</td>\n",
       "      <td>normal</td>\n",
       "      <td>normal</td>\n",
       "      <td>normal</td>\n",
       "      <td>ausente</td>\n",
       "      <td>ausente</td>\n",
       "      <td>ausente</td>\n",
       "      <td>...</td>\n",
       "      <td>ausente</td>\n",
       "      <td>ausente</td>\n",
       "      <td>negativa</td>\n",
       "      <td>negativa</td>\n",
       "      <td>negativa</td>\n",
       "      <td>não realizada</td>\n",
       "      <td>apagamento dos processos podocitários (pedicelos)</td>\n",
       "      <td>não realizado</td>\n",
       "      <td>síndrome nefrótica</td>\n",
       "      <td>Doença de Lesões mínimas</td>\n",
       "    </tr>\n",
       "    <tr>\n",
       "      <th>1</th>\n",
       "      <td>1</td>\n",
       "      <td>normal</td>\n",
       "      <td>normal</td>\n",
       "      <td>normal</td>\n",
       "      <td>normal</td>\n",
       "      <td>normal</td>\n",
       "      <td>normal</td>\n",
       "      <td>ausente</td>\n",
       "      <td>ausente</td>\n",
       "      <td>ausente</td>\n",
       "      <td>...</td>\n",
       "      <td>ausente</td>\n",
       "      <td>ausente</td>\n",
       "      <td>negativa</td>\n",
       "      <td>negativa</td>\n",
       "      <td>negativa</td>\n",
       "      <td>não realizada</td>\n",
       "      <td>normal</td>\n",
       "      <td>não realizado</td>\n",
       "      <td>hematúria</td>\n",
       "      <td>Rim normal</td>\n",
       "    </tr>\n",
       "    <tr>\n",
       "      <th>2</th>\n",
       "      <td>2</td>\n",
       "      <td>aumentada</td>\n",
       "      <td>normal</td>\n",
       "      <td>normal</td>\n",
       "      <td>adesão</td>\n",
       "      <td>esclerose segmentar</td>\n",
       "      <td>hipertrofia</td>\n",
       "      <td>ausente</td>\n",
       "      <td>ausente</td>\n",
       "      <td>ausente</td>\n",
       "      <td>...</td>\n",
       "      <td>ausente</td>\n",
       "      <td>ausente</td>\n",
       "      <td>positiva</td>\n",
       "      <td>segmentar</td>\n",
       "      <td>IgM C3</td>\n",
       "      <td>não realizada</td>\n",
       "      <td>apagamento dos processos podocitários</td>\n",
       "      <td>não realizado</td>\n",
       "      <td>síndrome nefrótica</td>\n",
       "      <td>Glomeruloesclerose segmentar e focal</td>\n",
       "    </tr>\n",
       "    <tr>\n",
       "      <th>3</th>\n",
       "      <td>3</td>\n",
       "      <td>normal</td>\n",
       "      <td>normal</td>\n",
       "      <td>espessada</td>\n",
       "      <td>normal</td>\n",
       "      <td>normal</td>\n",
       "      <td>normal</td>\n",
       "      <td>ausente</td>\n",
       "      <td>ausente</td>\n",
       "      <td>ausente</td>\n",
       "      <td>...</td>\n",
       "      <td>ausente</td>\n",
       "      <td>ausente</td>\n",
       "      <td>positiva</td>\n",
       "      <td>granular em alça capilar</td>\n",
       "      <td>IgG C3</td>\n",
       "      <td>IgG4 positivo e anti-fosfolipase A2 positiva</td>\n",
       "      <td>apagamento dos processos podocitários (pedicel...</td>\n",
       "      <td>não realizado</td>\n",
       "      <td>síndrome nefrótica</td>\n",
       "      <td>Glomerulopatia membranosa primária</td>\n",
       "    </tr>\n",
       "    <tr>\n",
       "      <th>4</th>\n",
       "      <td>4</td>\n",
       "      <td>aumento discreto</td>\n",
       "      <td>normal</td>\n",
       "      <td>duplicação</td>\n",
       "      <td>adesão</td>\n",
       "      <td>normal</td>\n",
       "      <td>normal</td>\n",
       "      <td>ausente</td>\n",
       "      <td>ausente</td>\n",
       "      <td>ausente</td>\n",
       "      <td>...</td>\n",
       "      <td>ausente</td>\n",
       "      <td>ausente</td>\n",
       "      <td>positiva</td>\n",
       "      <td>granular em alça capilar</td>\n",
       "      <td>IgG C3</td>\n",
       "      <td>IgG4 positivo e anti-fosfolipase A2 positiva</td>\n",
       "      <td>apagamento dos processos podocitários (pedicel...</td>\n",
       "      <td>não realizado</td>\n",
       "      <td>síndrome nefrótica</td>\n",
       "      <td>Glomerulopatia membranosa primária</td>\n",
       "    </tr>\n",
       "  </tbody>\n",
       "</table>\n",
       "<p>5 rows × 32 columns</p>\n",
       "</div>"
      ],
      "text/plain": [
       "   Unnamed: 0  Matriz mesangial Celularidade mesangial  \\\n",
       "0           0            normal                 normal   \n",
       "1           1            normal                 normal   \n",
       "2           2         aumentada                 normal   \n",
       "3           3            normal                 normal   \n",
       "4           4  aumento discreto                 normal   \n",
       "\n",
       "  Membrana basal glomerular Espaço de Bowman      Tufo glomerular  \\\n",
       "0                    normal           normal               normal   \n",
       "1                    normal           normal               normal   \n",
       "2                    normal           adesão  esclerose segmentar   \n",
       "3                 espessada           normal               normal   \n",
       "4                duplicação           adesão               normal   \n",
       "\n",
       "      Podócito Necrose tubular aguda Vacuolização do epitélio Cristais  ...  \\\n",
       "0       normal               ausente                  ausente  ausente  ...   \n",
       "1       normal               ausente                  ausente  ausente  ...   \n",
       "2  hipertrofia               ausente                  ausente  ausente  ...   \n",
       "3       normal               ausente                  ausente  ausente  ...   \n",
       "4       normal               ausente                  ausente  ausente  ...   \n",
       "\n",
       "  Hialinose Necrose Fibrinóide IMUNOFLUORESCÊNCIA       padrão de deposição  \\\n",
       "0   ausente            ausente           negativa                  negativa   \n",
       "1   ausente            ausente           negativa                  negativa   \n",
       "2   ausente            ausente           positiva                 segmentar   \n",
       "3   ausente            ausente           positiva  granular em alça capilar   \n",
       "4   ausente            ausente           positiva  granular em alça capilar   \n",
       "\n",
       "  Imunodepósitos                             Imunohistoquímica  \\\n",
       "0       negativa                                 não realizada   \n",
       "1       negativa                                 não realizada   \n",
       "2         IgM C3                                 não realizada   \n",
       "3         IgG C3  IgG4 positivo e anti-fosfolipase A2 positiva   \n",
       "4         IgG C3  IgG4 positivo e anti-fosfolipase A2 positiva   \n",
       "\n",
       "                              Microscopia eletrônica vermelho congo  \\\n",
       "0  apagamento dos processos podocitários (pedicelos)  não realizado   \n",
       "1                                             normal  não realizado   \n",
       "2              apagamento dos processos podocitários  não realizado   \n",
       "3  apagamento dos processos podocitários (pedicel...  não realizado   \n",
       "4  apagamento dos processos podocitários (pedicel...  não realizado   \n",
       "\n",
       "              Clínica                           Diagnóstico  \n",
       "0  síndrome nefrótica              Doença de Lesões mínimas  \n",
       "1           hematúria                            Rim normal  \n",
       "2  síndrome nefrótica  Glomeruloesclerose segmentar e focal  \n",
       "3  síndrome nefrótica    Glomerulopatia membranosa primária  \n",
       "4  síndrome nefrótica    Glomerulopatia membranosa primária  \n",
       "\n",
       "[5 rows x 32 columns]"
      ]
     },
     "execution_count": 3,
     "metadata": {},
     "output_type": "execute_result"
    }
   ],
   "source": [
    "database.head()"
   ]
  },
  {
   "cell_type": "code",
   "execution_count": 4,
   "metadata": {},
   "outputs": [],
   "source": [
    "database.drop('Unnamed: 0', axis=1, inplace=True)"
   ]
  },
  {
   "cell_type": "code",
   "execution_count": 5,
   "metadata": {},
   "outputs": [
    {
     "name": "stdout",
     "output_type": "stream",
     "text": [
      "<class 'pandas.core.frame.DataFrame'>\n",
      "RangeIndex: 100 entries, 0 to 99\n",
      "Data columns (total 31 columns):\n",
      "Matriz mesangial                   100 non-null object\n",
      "Celularidade mesangial             100 non-null object\n",
      "Membrana basal glomerular          100 non-null object\n",
      "Espaço de Bowman                   100 non-null object\n",
      "Tufo glomerular                    100 non-null object\n",
      "Podócito                           100 non-null object\n",
      "Necrose tubular aguda              100 non-null object\n",
      "Vacuolização do epitélio           100 non-null object\n",
      "Cristais                           100 non-null object\n",
      "Calcificação                       100 non-null object\n",
      "Tubulite                           100 non-null object\n",
      "Cilindros                          100 non-null object\n",
      "Atrofia tubular                    100 non-null object\n",
      "Graduação de atrofia               100 non-null object\n",
      "Fibrose intersitical               100 non-null object\n",
      "Graduação da fibrose               100 non-null object\n",
      "Infiltrado inflamatório            100 non-null object\n",
      "tipo de infiltrado inflamatório    100 non-null object\n",
      "Vasculite                          100 non-null object\n",
      "Microangiopatia trombótica         100 non-null object\n",
      "Trombos                            100 non-null object\n",
      "Hialinose                          100 non-null object\n",
      "Necrose Fibrinóide                 100 non-null object\n",
      "IMUNOFLUORESCÊNCIA                 100 non-null object\n",
      "padrão de deposição                100 non-null object\n",
      "Imunodepósitos                     100 non-null object\n",
      "Imunohistoquímica                  100 non-null object\n",
      "Microscopia eletrônica             100 non-null object\n",
      "vermelho congo                     100 non-null object\n",
      "Clínica                            100 non-null object\n",
      "Diagnóstico                        100 non-null object\n",
      "dtypes: object(31)\n",
      "memory usage: 24.3+ KB\n"
     ]
    }
   ],
   "source": [
    "database.info()"
   ]
  },
  {
   "cell_type": "code",
   "execution_count": 6,
   "metadata": {},
   "outputs": [],
   "source": [
    "target = database['Diagnóstico'].copy()"
   ]
  },
  {
   "cell_type": "code",
   "execution_count": 7,
   "metadata": {},
   "outputs": [],
   "source": [
    "for column in database.columns:\n",
    "    unique = database[column].unique()\n",
    "    mapping = dict(zip(unique, range(len(unique))))\n",
    "    \n",
    "    database[column] = database[column].map(mapping)"
   ]
  },
  {
   "cell_type": "code",
   "execution_count": 8,
   "metadata": {},
   "outputs": [
    {
     "data": {
      "text/html": [
       "<div>\n",
       "<style scoped>\n",
       "    .dataframe tbody tr th:only-of-type {\n",
       "        vertical-align: middle;\n",
       "    }\n",
       "\n",
       "    .dataframe tbody tr th {\n",
       "        vertical-align: top;\n",
       "    }\n",
       "\n",
       "    .dataframe thead th {\n",
       "        text-align: right;\n",
       "    }\n",
       "</style>\n",
       "<table border=\"1\" class=\"dataframe\">\n",
       "  <thead>\n",
       "    <tr style=\"text-align: right;\">\n",
       "      <th></th>\n",
       "      <th>Matriz mesangial</th>\n",
       "      <th>Celularidade mesangial</th>\n",
       "      <th>Membrana basal glomerular</th>\n",
       "      <th>Espaço de Bowman</th>\n",
       "      <th>Tufo glomerular</th>\n",
       "      <th>Podócito</th>\n",
       "      <th>Necrose tubular aguda</th>\n",
       "      <th>Vacuolização do epitélio</th>\n",
       "      <th>Cristais</th>\n",
       "      <th>Calcificação</th>\n",
       "      <th>...</th>\n",
       "      <th>Hialinose</th>\n",
       "      <th>Necrose Fibrinóide</th>\n",
       "      <th>IMUNOFLUORESCÊNCIA</th>\n",
       "      <th>padrão de deposição</th>\n",
       "      <th>Imunodepósitos</th>\n",
       "      <th>Imunohistoquímica</th>\n",
       "      <th>Microscopia eletrônica</th>\n",
       "      <th>vermelho congo</th>\n",
       "      <th>Clínica</th>\n",
       "      <th>Diagnóstico</th>\n",
       "    </tr>\n",
       "  </thead>\n",
       "  <tbody>\n",
       "    <tr>\n",
       "      <th>0</th>\n",
       "      <td>0</td>\n",
       "      <td>0</td>\n",
       "      <td>0</td>\n",
       "      <td>0</td>\n",
       "      <td>0</td>\n",
       "      <td>0</td>\n",
       "      <td>0</td>\n",
       "      <td>0</td>\n",
       "      <td>0</td>\n",
       "      <td>0</td>\n",
       "      <td>...</td>\n",
       "      <td>0</td>\n",
       "      <td>0</td>\n",
       "      <td>0</td>\n",
       "      <td>0</td>\n",
       "      <td>0</td>\n",
       "      <td>0</td>\n",
       "      <td>0</td>\n",
       "      <td>0</td>\n",
       "      <td>0</td>\n",
       "      <td>0</td>\n",
       "    </tr>\n",
       "    <tr>\n",
       "      <th>1</th>\n",
       "      <td>0</td>\n",
       "      <td>0</td>\n",
       "      <td>0</td>\n",
       "      <td>0</td>\n",
       "      <td>0</td>\n",
       "      <td>0</td>\n",
       "      <td>0</td>\n",
       "      <td>0</td>\n",
       "      <td>0</td>\n",
       "      <td>0</td>\n",
       "      <td>...</td>\n",
       "      <td>0</td>\n",
       "      <td>0</td>\n",
       "      <td>0</td>\n",
       "      <td>0</td>\n",
       "      <td>0</td>\n",
       "      <td>0</td>\n",
       "      <td>1</td>\n",
       "      <td>0</td>\n",
       "      <td>1</td>\n",
       "      <td>1</td>\n",
       "    </tr>\n",
       "    <tr>\n",
       "      <th>2</th>\n",
       "      <td>1</td>\n",
       "      <td>0</td>\n",
       "      <td>0</td>\n",
       "      <td>1</td>\n",
       "      <td>1</td>\n",
       "      <td>1</td>\n",
       "      <td>0</td>\n",
       "      <td>0</td>\n",
       "      <td>0</td>\n",
       "      <td>0</td>\n",
       "      <td>...</td>\n",
       "      <td>0</td>\n",
       "      <td>0</td>\n",
       "      <td>1</td>\n",
       "      <td>1</td>\n",
       "      <td>1</td>\n",
       "      <td>0</td>\n",
       "      <td>2</td>\n",
       "      <td>0</td>\n",
       "      <td>0</td>\n",
       "      <td>2</td>\n",
       "    </tr>\n",
       "    <tr>\n",
       "      <th>3</th>\n",
       "      <td>0</td>\n",
       "      <td>0</td>\n",
       "      <td>1</td>\n",
       "      <td>0</td>\n",
       "      <td>0</td>\n",
       "      <td>0</td>\n",
       "      <td>0</td>\n",
       "      <td>0</td>\n",
       "      <td>0</td>\n",
       "      <td>0</td>\n",
       "      <td>...</td>\n",
       "      <td>0</td>\n",
       "      <td>0</td>\n",
       "      <td>1</td>\n",
       "      <td>2</td>\n",
       "      <td>2</td>\n",
       "      <td>1</td>\n",
       "      <td>3</td>\n",
       "      <td>0</td>\n",
       "      <td>0</td>\n",
       "      <td>3</td>\n",
       "    </tr>\n",
       "    <tr>\n",
       "      <th>4</th>\n",
       "      <td>2</td>\n",
       "      <td>0</td>\n",
       "      <td>2</td>\n",
       "      <td>1</td>\n",
       "      <td>0</td>\n",
       "      <td>0</td>\n",
       "      <td>0</td>\n",
       "      <td>0</td>\n",
       "      <td>0</td>\n",
       "      <td>0</td>\n",
       "      <td>...</td>\n",
       "      <td>0</td>\n",
       "      <td>0</td>\n",
       "      <td>1</td>\n",
       "      <td>2</td>\n",
       "      <td>2</td>\n",
       "      <td>1</td>\n",
       "      <td>3</td>\n",
       "      <td>0</td>\n",
       "      <td>0</td>\n",
       "      <td>3</td>\n",
       "    </tr>\n",
       "  </tbody>\n",
       "</table>\n",
       "<p>5 rows × 31 columns</p>\n",
       "</div>"
      ],
      "text/plain": [
       "   Matriz mesangial  Celularidade mesangial  Membrana basal glomerular  \\\n",
       "0                 0                       0                          0   \n",
       "1                 0                       0                          0   \n",
       "2                 1                       0                          0   \n",
       "3                 0                       0                          1   \n",
       "4                 2                       0                          2   \n",
       "\n",
       "   Espaço de Bowman  Tufo glomerular  Podócito  Necrose tubular aguda  \\\n",
       "0                 0                0         0                      0   \n",
       "1                 0                0         0                      0   \n",
       "2                 1                1         1                      0   \n",
       "3                 0                0         0                      0   \n",
       "4                 1                0         0                      0   \n",
       "\n",
       "   Vacuolização do epitélio  Cristais  Calcificação  ...  Hialinose  \\\n",
       "0                         0         0             0  ...          0   \n",
       "1                         0         0             0  ...          0   \n",
       "2                         0         0             0  ...          0   \n",
       "3                         0         0             0  ...          0   \n",
       "4                         0         0             0  ...          0   \n",
       "\n",
       "   Necrose Fibrinóide  IMUNOFLUORESCÊNCIA  padrão de deposição  \\\n",
       "0                   0                   0                    0   \n",
       "1                   0                   0                    0   \n",
       "2                   0                   1                    1   \n",
       "3                   0                   1                    2   \n",
       "4                   0                   1                    2   \n",
       "\n",
       "   Imunodepósitos  Imunohistoquímica  Microscopia eletrônica  vermelho congo  \\\n",
       "0               0                  0                       0               0   \n",
       "1               0                  0                       1               0   \n",
       "2               1                  0                       2               0   \n",
       "3               2                  1                       3               0   \n",
       "4               2                  1                       3               0   \n",
       "\n",
       "   Clínica  Diagnóstico  \n",
       "0        0            0  \n",
       "1        1            1  \n",
       "2        0            2  \n",
       "3        0            3  \n",
       "4        0            3  \n",
       "\n",
       "[5 rows x 31 columns]"
      ]
     },
     "execution_count": 8,
     "metadata": {},
     "output_type": "execute_result"
    }
   ],
   "source": [
    "database.head()"
   ]
  },
  {
   "cell_type": "code",
   "execution_count": 9,
   "metadata": {},
   "outputs": [],
   "source": [
    "database.to_csv('Total.csv')"
   ]
  },
  {
   "cell_type": "code",
   "execution_count": 10,
   "metadata": {},
   "outputs": [
    {
     "data": {
      "text/plain": [
       "array(['Doença de Lesões mínimas', 'Rim normal',\n",
       "       'Glomeruloesclerose segmentar e focal',\n",
       "       'Glomerulopatia membranosa primária',\n",
       "       'Glomerulopatia membranosa secundária', 'Doença da membrana fina',\n",
       "       'Nefropatia por IgA',\n",
       "       'Glomerulonefrite membranoproliferativa tipo I',\n",
       "       'Glomerulonefrite membranoproliferativa tipo II(Doença de depósito denso)',\n",
       "       'Glomerulonefrite membranoproliferativa tipo III',\n",
       "       'Glomerulonefrite difusa aguda (GNDA)', 'Nefropatia diabética',\n",
       "       'Nefroesclerose vascular hipertensiva',\n",
       "       'GLOMERULONEFRITE LÚPICA FOCAL E GLOBAL - CLASSE III',\n",
       "       'GLOMERULONEFRITE LÚPICA DIFUSA E SEGMENTAR ´CLASSE IV',\n",
       "       'GLOMERULONEFRITE LÚPICA FOCAL E SEGMENTAR - CLASSE III',\n",
       "       'Podocitopatias (Lesões Mínimas X Glomeruloesclerose Segmentar e Focal não amostrada)',\n",
       "       'GLOMERULONEFRITE LÚPICA MEMBRANOSA- CLASSE V', 'Doença de Fabry',\n",
       "       'Podocitopatia: Glomeruloesclerose segmentar e Focal não amostrada',\n",
       "       'GLOMERULONEFRITE LÚPICA DIFUSA E GLOBAL - CLASSE IV',\n",
       "       'GLOMERULONEFRITE LÚPICA MESANGIAL PROLIFERATIVA – CLASSE II',\n",
       "       'GLOMERULONEFRITE LÚPICA SEGMENTAR E FOCAL – CLASSE III (A) E ASSOCIAÇÃO COM MEMBRANOSA (CLASSE V)',\n",
       "       'Nefropatia por IgA (doença de Berger)',\n",
       "       'Glomerulonefrite crescêntica',\n",
       "       'Glomerulonefrite membranoproliferativa',\n",
       "       'GLOMERULONEFRITE LÚPICA SEGMENTAR E FOCAL - CLASSE III',\n",
       "       'Glomerulopatia membranosa',\n",
       "       'Glomeruloesclerose segmentar e focal variante colapsante',\n",
       "       'Amiloidose', 'Glomerulopatia por fibronectina',\n",
       "       'Microangiopatia trombótica'], dtype=object)"
      ]
     },
     "execution_count": 10,
     "metadata": {},
     "output_type": "execute_result"
    }
   ],
   "source": [
    "target.unique()"
   ]
  },
  {
   "cell_type": "code",
   "execution_count": 11,
   "metadata": {},
   "outputs": [
    {
     "data": {
      "text/plain": [
       "GLOMERULONEFRITE LÚPICA DIFUSA E GLOBAL - CLASSE IV                                                  9\n",
       "Podocitopatias (Lesões Mínimas X Glomeruloesclerose Segmentar e Focal não amostrada)                 8\n",
       "Nefropatia diabética                                                                                 7\n",
       "Nefropatia por IgA                                                                                   5\n",
       "Glomerulonefrite membranoproliferativa tipo II(Doença de depósito denso)                             5\n",
       "Glomerulopatia membranosa primária                                                                   5\n",
       "Glomeruloesclerose segmentar e focal                                                                 5\n",
       "Glomerulopatia membranosa secundária                                                                 5\n",
       "Glomerulonefrite membranoproliferativa tipo I                                                        4\n",
       "Nefroesclerose vascular hipertensiva                                                                 4\n",
       "Nefropatia por IgA (doença de Berger)                                                                4\n",
       "Glomeruloesclerose segmentar e focal variante colapsante                                             4\n",
       "GLOMERULONEFRITE LÚPICA SEGMENTAR E FOCAL - CLASSE III                                               3\n",
       "Glomerulonefrite crescêntica                                                                         3\n",
       "Glomerulonefrite membranoproliferativa                                                               3\n",
       "GLOMERULONEFRITE LÚPICA FOCAL E SEGMENTAR - CLASSE III                                               3\n",
       "Glomerulonefrite membranoproliferativa tipo III                                                      3\n",
       "Glomerulopatia membranosa                                                                            2\n",
       "Microangiopatia trombótica                                                                           2\n",
       "Glomerulonefrite difusa aguda (GNDA)                                                                 2\n",
       "Amiloidose                                                                                           2\n",
       "Doença de Fabry                                                                                      2\n",
       "GLOMERULONEFRITE LÚPICA FOCAL E GLOBAL - CLASSE III                                                  1\n",
       "GLOMERULONEFRITE LÚPICA MEMBRANOSA- CLASSE V                                                         1\n",
       "GLOMERULONEFRITE LÚPICA DIFUSA E SEGMENTAR ´CLASSE IV                                                1\n",
       "Doença da membrana fina                                                                              1\n",
       "Podocitopatia: Glomeruloesclerose segmentar e Focal não amostrada                                    1\n",
       "Doença de Lesões mínimas                                                                             1\n",
       "Rim normal                                                                                           1\n",
       "GLOMERULONEFRITE LÚPICA SEGMENTAR E FOCAL – CLASSE III (A) E ASSOCIAÇÃO COM MEMBRANOSA (CLASSE V)    1\n",
       "Glomerulopatia por fibronectina                                                                      1\n",
       "GLOMERULONEFRITE LÚPICA MESANGIAL PROLIFERATIVA – CLASSE II                                          1\n",
       "Name: Diagnóstico, dtype: int64"
      ]
     },
     "execution_count": 11,
     "metadata": {},
     "output_type": "execute_result"
    }
   ],
   "source": [
    "target.value_counts()"
   ]
  },
  {
   "cell_type": "code",
   "execution_count": 12,
   "metadata": {},
   "outputs": [
    {
     "data": {
      "text/plain": [
       "array(['Amiloidose', 'Doença da membrana fina', 'Doença de Fabry',\n",
       "       'Doença de Lesões mínimas',\n",
       "       'GLOMERULONEFRITE LÚPICA DIFUSA E GLOBAL - CLASSE IV',\n",
       "       'GLOMERULONEFRITE LÚPICA DIFUSA E SEGMENTAR ´CLASSE IV',\n",
       "       'GLOMERULONEFRITE LÚPICA FOCAL E GLOBAL - CLASSE III',\n",
       "       'GLOMERULONEFRITE LÚPICA FOCAL E SEGMENTAR - CLASSE III',\n",
       "       'GLOMERULONEFRITE LÚPICA MEMBRANOSA- CLASSE V',\n",
       "       'GLOMERULONEFRITE LÚPICA MESANGIAL PROLIFERATIVA – CLASSE II',\n",
       "       'GLOMERULONEFRITE LÚPICA SEGMENTAR E FOCAL - CLASSE III',\n",
       "       'GLOMERULONEFRITE LÚPICA SEGMENTAR E FOCAL – CLASSE III (A) E ASSOCIAÇÃO COM MEMBRANOSA (CLASSE V)',\n",
       "       'Glomeruloesclerose segmentar e focal',\n",
       "       'Glomeruloesclerose segmentar e focal variante colapsante',\n",
       "       'Glomerulonefrite crescêntica',\n",
       "       'Glomerulonefrite difusa aguda (GNDA)',\n",
       "       'Glomerulonefrite membranoproliferativa',\n",
       "       'Glomerulonefrite membranoproliferativa tipo I',\n",
       "       'Glomerulonefrite membranoproliferativa tipo II(Doença de depósito denso)',\n",
       "       'Glomerulonefrite membranoproliferativa tipo III',\n",
       "       'Glomerulopatia membranosa', 'Glomerulopatia membranosa primária',\n",
       "       'Glomerulopatia membranosa secundária',\n",
       "       'Glomerulopatia por fibronectina', 'Microangiopatia trombótica',\n",
       "       'Nefroesclerose vascular hipertensiva', 'Nefropatia diabética',\n",
       "       'Nefropatia por IgA', 'Nefropatia por IgA (doença de Berger)',\n",
       "       'Podocitopatia: Glomeruloesclerose segmentar e Focal não amostrada',\n",
       "       'Podocitopatias (Lesões Mínimas X Glomeruloesclerose Segmentar e Focal não amostrada)',\n",
       "       'Rim normal'], dtype=object)"
      ]
     },
     "execution_count": 12,
     "metadata": {},
     "output_type": "execute_result"
    }
   ],
   "source": [
    "np.sort(target.unique())"
   ]
  },
  {
   "cell_type": "code",
   "execution_count": 13,
   "metadata": {},
   "outputs": [],
   "source": [
    "def group_by1(diagnostico):\n",
    "    if 'Podocitopatia' in diagnostico:\n",
    "        return 0\n",
    "    elif ('Glomerulonefrite' in diagnostico) or ('GLOMERULONEFRITE' in diagnostico):\n",
    "        return 1\n",
    "    elif 'Nefropatia' in diagnostico:\n",
    "        return 2\n",
    "    elif 'Glomerulopatia' in diagnostico:\n",
    "        return 3\n",
    "    elif 'Glomeruloesclerose' in diagnostico:\n",
    "        return 4\n",
    "    else:\n",
    "        return 5"
   ]
  },
  {
   "cell_type": "code",
   "execution_count": 14,
   "metadata": {},
   "outputs": [],
   "source": [
    "database.drop('Diagnóstico', axis=1, inplace=True)"
   ]
  },
  {
   "cell_type": "code",
   "execution_count": 15,
   "metadata": {},
   "outputs": [],
   "source": [
    "database['Diagnóstico'] = target.apply(lambda reg: group_by1(reg))"
   ]
  },
  {
   "cell_type": "code",
   "execution_count": 16,
   "metadata": {},
   "outputs": [
    {
     "data": {
      "text/plain": [
       "1    40\n",
       "2    16\n",
       "5    13\n",
       "3    13\n",
       "4     9\n",
       "0     9\n",
       "Name: Diagnóstico, dtype: int64"
      ]
     },
     "execution_count": 16,
     "metadata": {},
     "output_type": "execute_result"
    }
   ],
   "source": [
    "database['Diagnóstico'].value_counts()"
   ]
  },
  {
   "cell_type": "code",
   "execution_count": 17,
   "metadata": {},
   "outputs": [],
   "source": [
    "database.to_csv('group_by1.csv')"
   ]
  },
  {
   "cell_type": "code",
   "execution_count": 18,
   "metadata": {},
   "outputs": [],
   "source": [
    "def group_by2(diagnostico):\n",
    "    if 'Podocitopatia' in diagnostico:\n",
    "        return 0\n",
    "    elif 'GLOMERULONEFRITE LÚPICA' in diagnostico:\n",
    "        return 1\n",
    "    elif 'Nefropatia' in diagnostico:\n",
    "        return 2\n",
    "    elif 'Glomerulopatia' in diagnostico:\n",
    "        return 3\n",
    "    elif 'Glomeruloesclerose' in diagnostico:\n",
    "        return 4\n",
    "    elif 'Glomerulonefrite' in diagnostico:\n",
    "        return 5\n",
    "    else:\n",
    "        return 6"
   ]
  },
  {
   "cell_type": "code",
   "execution_count": 19,
   "metadata": {},
   "outputs": [],
   "source": [
    "database.drop('Diagnóstico', axis=1, inplace=True)"
   ]
  },
  {
   "cell_type": "code",
   "execution_count": 20,
   "metadata": {},
   "outputs": [],
   "source": [
    "database['Diagnóstico'] = target.apply(lambda reg: group_by2(reg))"
   ]
  },
  {
   "cell_type": "code",
   "execution_count": 21,
   "metadata": {},
   "outputs": [
    {
     "data": {
      "text/plain": [
       "5    20\n",
       "1    20\n",
       "2    16\n",
       "6    13\n",
       "3    13\n",
       "4     9\n",
       "0     9\n",
       "Name: Diagnóstico, dtype: int64"
      ]
     },
     "execution_count": 21,
     "metadata": {},
     "output_type": "execute_result"
    }
   ],
   "source": [
    "database['Diagnóstico'].value_counts()"
   ]
  },
  {
   "cell_type": "code",
   "execution_count": 22,
   "metadata": {},
   "outputs": [],
   "source": [
    "database.to_csv('group_by2.csv')"
   ]
  },
  {
   "cell_type": "code",
   "execution_count": 23,
   "metadata": {},
   "outputs": [],
   "source": [
    "def group_by3(diagnostico):\n",
    "    if 'GLOMERULONEFRITE LÚPICA' in diagnostico:\n",
    "        return 0\n",
    "    elif 'Nefropatia' in diagnostico:\n",
    "        return 1\n",
    "    elif 'Glomerulopatia' in diagnostico:\n",
    "        return 2\n",
    "    elif 'Glomerulonefrite' in diagnostico:\n",
    "        return 3\n",
    "    else:\n",
    "        return 4"
   ]
  },
  {
   "cell_type": "code",
   "execution_count": 24,
   "metadata": {},
   "outputs": [],
   "source": [
    "database.drop('Diagnóstico', axis=1, inplace=True)"
   ]
  },
  {
   "cell_type": "code",
   "execution_count": 25,
   "metadata": {},
   "outputs": [],
   "source": [
    "database['Diagnóstico'] = target.apply(lambda reg: group_by3(reg))"
   ]
  },
  {
   "cell_type": "code",
   "execution_count": 26,
   "metadata": {},
   "outputs": [
    {
     "data": {
      "text/plain": [
       "4    31\n",
       "3    20\n",
       "0    20\n",
       "1    16\n",
       "2    13\n",
       "Name: Diagnóstico, dtype: int64"
      ]
     },
     "execution_count": 26,
     "metadata": {},
     "output_type": "execute_result"
    }
   ],
   "source": [
    "database['Diagnóstico'].value_counts()"
   ]
  },
  {
   "cell_type": "code",
   "execution_count": 27,
   "metadata": {},
   "outputs": [],
   "source": [
    "database.to_csv('group_by3.csv')"
   ]
  },
  {
   "cell_type": "code",
   "execution_count": 28,
   "metadata": {},
   "outputs": [],
   "source": [
    "def group_by4(diagnostico):\n",
    "    if 'Podocitopatia' in diagnostico:\n",
    "        return 0\n",
    "    elif 'GLOMERULONEFRITE LÚPICA' in diagnostico:\n",
    "        return 1\n",
    "    elif 'Nefropatia' in diagnostico:\n",
    "        return 2\n",
    "    elif 'Glomerulopatia' in diagnostico:\n",
    "        return 3\n",
    "    elif 'Glomerulonefrite' in diagnostico:\n",
    "        return 4\n",
    "    else:\n",
    "        return 5"
   ]
  },
  {
   "cell_type": "code",
   "execution_count": 29,
   "metadata": {},
   "outputs": [],
   "source": [
    "database.drop('Diagnóstico', axis=1, inplace=True)"
   ]
  },
  {
   "cell_type": "code",
   "execution_count": 30,
   "metadata": {},
   "outputs": [],
   "source": [
    "database['Diagnóstico'] = target.apply(lambda reg: group_by4(reg))"
   ]
  },
  {
   "cell_type": "code",
   "execution_count": 31,
   "metadata": {},
   "outputs": [
    {
     "data": {
      "text/plain": [
       "5    22\n",
       "4    20\n",
       "1    20\n",
       "2    16\n",
       "3    13\n",
       "0     9\n",
       "Name: Diagnóstico, dtype: int64"
      ]
     },
     "execution_count": 31,
     "metadata": {},
     "output_type": "execute_result"
    }
   ],
   "source": [
    "database['Diagnóstico'].value_counts()"
   ]
  },
  {
   "cell_type": "code",
   "execution_count": 32,
   "metadata": {},
   "outputs": [],
   "source": [
    "database.to_csv('group_by4.csv')"
   ]
  },
  {
   "cell_type": "code",
   "execution_count": 33,
   "metadata": {},
   "outputs": [],
   "source": [
    "def group_by5(diagnostico):\n",
    "    if 'Podocitopatia' in diagnostico:\n",
    "        return 5\n",
    "    elif 'GLOMERULONEFRITE LÚPICA' in diagnostico:\n",
    "        return 0\n",
    "    elif 'Nefropatia' in diagnostico:\n",
    "        return 1\n",
    "    elif 'Glomerulopatia' in diagnostico:\n",
    "        return 2\n",
    "    elif 'Glomerulonefrite' in diagnostico:\n",
    "        return 3\n",
    "    elif 'Glomeruloesclerose' in diagnostico:\n",
    "        return 4\n",
    "    else:\n",
    "        return 5"
   ]
  },
  {
   "cell_type": "code",
   "execution_count": 34,
   "metadata": {},
   "outputs": [],
   "source": [
    "database.drop('Diagnóstico', axis=1, inplace=True)"
   ]
  },
  {
   "cell_type": "code",
   "execution_count": 35,
   "metadata": {},
   "outputs": [],
   "source": [
    "database['Diagnóstico'] = target.apply(lambda reg: group_by5(reg))"
   ]
  },
  {
   "cell_type": "code",
   "execution_count": 36,
   "metadata": {},
   "outputs": [
    {
     "data": {
      "text/plain": [
       "5    22\n",
       "3    20\n",
       "0    20\n",
       "1    16\n",
       "2    13\n",
       "4     9\n",
       "Name: Diagnóstico, dtype: int64"
      ]
     },
     "execution_count": 36,
     "metadata": {},
     "output_type": "execute_result"
    }
   ],
   "source": [
    "database['Diagnóstico'].value_counts()"
   ]
  },
  {
   "cell_type": "code",
   "execution_count": 37,
   "metadata": {},
   "outputs": [],
   "source": [
    "database.to_csv('group_by5.csv')"
   ]
  },
  {
   "cell_type": "code",
   "execution_count": 38,
   "metadata": {},
   "outputs": [],
   "source": [
    "def group_by6(diagnostico):\n",
    "    if ('Glomerulonefrite' in diagnostico) or ('GLOMERULONEFRITE' in diagnostico):\n",
    "        return 0\n",
    "    elif 'Nefropatia' in diagnostico:\n",
    "        return 1\n",
    "    elif 'Glomerulopatia' in diagnostico:\n",
    "        return 2\n",
    "    else:\n",
    "        return 3"
   ]
  },
  {
   "cell_type": "code",
   "execution_count": 39,
   "metadata": {},
   "outputs": [],
   "source": [
    "database.drop('Diagnóstico', axis=1, inplace=True)"
   ]
  },
  {
   "cell_type": "code",
   "execution_count": 40,
   "metadata": {},
   "outputs": [],
   "source": [
    "database['Diagnóstico'] = target.apply(lambda reg: group_by6(reg))"
   ]
  },
  {
   "cell_type": "code",
   "execution_count": 41,
   "metadata": {},
   "outputs": [
    {
     "data": {
      "text/plain": [
       "0    40\n",
       "3    31\n",
       "1    16\n",
       "2    13\n",
       "Name: Diagnóstico, dtype: int64"
      ]
     },
     "execution_count": 41,
     "metadata": {},
     "output_type": "execute_result"
    }
   ],
   "source": [
    "database['Diagnóstico'].value_counts()"
   ]
  },
  {
   "cell_type": "code",
   "execution_count": 42,
   "metadata": {},
   "outputs": [],
   "source": [
    "database.to_csv('group_by6.csv')"
   ]
  },
  {
   "cell_type": "code",
   "execution_count": 43,
   "metadata": {},
   "outputs": [],
   "source": [
    "database.drop('Diagnóstico', axis=1, inplace=True)"
   ]
  },
  {
   "cell_type": "code",
   "execution_count": 44,
   "metadata": {},
   "outputs": [],
   "source": [
    "database['Diagnóstico'] = target"
   ]
  },
  {
   "cell_type": "code",
   "execution_count": 45,
   "metadata": {},
   "outputs": [],
   "source": [
    "for i in database['Diagnóstico'].unique():\n",
    "    count = sum(database['Diagnóstico'] == i)\n",
    "    if count == 1:\n",
    "        database = database[database['Diagnóstico'] != i]"
   ]
  },
  {
   "cell_type": "code",
   "execution_count": 46,
   "metadata": {},
   "outputs": [
    {
     "data": {
      "text/plain": [
       "22"
      ]
     },
     "execution_count": 46,
     "metadata": {},
     "output_type": "execute_result"
    }
   ],
   "source": [
    "len(database['Diagnóstico'].unique())"
   ]
  },
  {
   "cell_type": "code",
   "execution_count": 47,
   "metadata": {},
   "outputs": [
    {
     "data": {
      "text/plain": [
       "32"
      ]
     },
     "execution_count": 47,
     "metadata": {},
     "output_type": "execute_result"
    }
   ],
   "source": [
    "len(target.unique())"
   ]
  },
  {
   "cell_type": "code",
   "execution_count": 48,
   "metadata": {},
   "outputs": [],
   "source": [
    "unique = database['Diagnóstico'].unique()\n",
    "\n",
    "mapping = dict(zip(unique, range(len(unique))))\n",
    "    \n",
    "database['Diagnóstico'] = database['Diagnóstico'].map(mapping)"
   ]
  },
  {
   "cell_type": "code",
   "execution_count": 49,
   "metadata": {},
   "outputs": [],
   "source": [
    "database.to_csv('greater_than_1.csv')"
   ]
  },
  {
   "cell_type": "code",
   "execution_count": null,
   "metadata": {},
   "outputs": [],
   "source": []
  }
 ],
 "metadata": {
  "kernelspec": {
   "display_name": "Python 3",
   "language": "python",
   "name": "python3"
  },
  "language_info": {
   "codemirror_mode": {
    "name": "ipython",
    "version": 3
   },
   "file_extension": ".py",
   "mimetype": "text/x-python",
   "name": "python",
   "nbconvert_exporter": "python",
   "pygments_lexer": "ipython3",
   "version": "3.7.4"
  }
 },
 "nbformat": 4,
 "nbformat_minor": 2
}
